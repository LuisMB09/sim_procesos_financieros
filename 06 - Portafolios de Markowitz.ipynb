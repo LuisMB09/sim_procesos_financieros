{
 "cells": [
  {
   "cell_type": "code",
   "execution_count": 1,
   "metadata": {},
   "outputs": [],
   "source": [
    "import random\n",
    "import itertools\n",
    "import numpy as np\n",
    "import pandas as pd\n",
    "import datetime as dt\n",
    "import yfinance as yf\n",
    "import matplotlib.pyplot as plt"
   ]
  },
  {
   "cell_type": "code",
   "execution_count": 2,
   "metadata": {},
   "outputs": [],
   "source": [
    "start_date = dt.datetime(2022, 1, 1)\n",
    "end_date = dt.datetime(2025, 2, 24)\n",
    "\n",
    "tickers = ['AAPL','MSFT','F','BAC','NKE','V','DIS']\n",
    "\n",
    "n_tickers_selected = 4\n",
    "n_combinations = 20\n",
    "\n",
    "sampled_combinations = random.sample(list(itertools.combinations(tickers, n_tickers_selected)), n_combinations)"
   ]
  },
  {
   "cell_type": "code",
   "execution_count": 12,
   "metadata": {},
   "outputs": [],
   "source": [
    "all_portfolios = []\n",
    "\n",
    "for combination in sampled_combinations:\n",
    "    data = yf.download(list(combination), start= start_date, end = end_date, progress= False)[\"Close\"]\n",
    "    returns = data.pct_change().dropna()\n",
    "    covariance_matrix = returns.cov()\n",
    "\n",
    "    annual_returns = returns.mean() * 252\n",
    "    annual_cov = covariance_matrix * 252\n",
    "\n",
    "    # Numero de simulaciones de ponderaciones\n",
    "    num_portafolios = 1000\n",
    "\n",
    "    weights_array = np.zeros((num_portafolios, n_tickers_selected))\n",
    "\n",
    "    returns_array = np.zeros(num_portafolios)\n",
    "    risk_array = np.zeros(num_portafolios)\n",
    "\n",
    "    for i in range(num_portafolios):\n",
    "        # generas los pesos aleatorios para cada portafolio\n",
    "        weights_array[i] = np.random.random(n_tickers_selected)\n",
    "        weights_array[i] = weights_array[i] / np.sum(weights_array[i])\n",
    "\n",
    "        # obteniendo rendimiento y volatilidad esperada anual por portafolio\n",
    "        portfolio_return = np.dot(annual_returns, weights_array[i])\n",
    "        portfolio_risk = np.sqrt(np.dot(weights_array[i].T, np.dot(annual_cov, weights_array[i])))\n",
    "\n",
    "        # guardando historicos\n",
    "        weights_array[i, :] = weights_array[i]\n",
    "        returns_array[i] = portfolio_return\n",
    "        risk_array[i] = portfolio_risk\n",
    "\n",
    "    portfolios = pd.DataFrame({\n",
    "        \"Returns\": returns_array,\n",
    "        \"Risk\": risk_array\n",
    "    })\n",
    "\n",
    "    for i, symbol in enumerate(combination):\n",
    "        portfolios[symbol + \" Weight\"] = weights_array[:, i]\n",
    "\n",
    "    all_portfolios.append(portfolios)\n",
    "\n",
    "all_portfolios = pd.concat(all_portfolios)"
   ]
  }
 ],
 "metadata": {
  "kernelspec": {
   "display_name": "base",
   "language": "python",
   "name": "python3"
  },
  "language_info": {
   "codemirror_mode": {
    "name": "ipython",
    "version": 3
   },
   "file_extension": ".py",
   "mimetype": "text/x-python",
   "name": "python",
   "nbconvert_exporter": "python",
   "pygments_lexer": "ipython3",
   "version": "3.12.3"
  }
 },
 "nbformat": 4,
 "nbformat_minor": 2
}
