{
 "cells": [
  {
   "cell_type": "code",
   "execution_count": 2,
   "metadata": {},
   "outputs": [],
   "source": [
    "import random\n",
    "import itertools\n",
    "import numpy as np\n",
    "import pandas as pd\n",
    "import datetime as dt\n",
    "import yfinance as yf\n",
    "import matplotlib.pyplot as plt\n",
    "from IPython.display import display"
   ]
  },
  {
   "cell_type": "code",
   "execution_count": 5,
   "metadata": {},
   "outputs": [],
   "source": [
    "df = pd.read_csv('sp_500.csv')\n",
    "tickers = df['Symbol'].tolist()"
   ]
  },
  {
   "cell_type": "code",
   "execution_count": 6,
   "metadata": {},
   "outputs": [],
   "source": [
    "start_date = dt.datetime(2022, 1, 1)\n",
    "end_date = dt.datetime(2025, 2, 24)\n",
    "\n",
    "n_tickers_selected = 2\n",
    "n_combinations = 10\n",
    "\n",
    "sampled_combinations = random.sample(list(itertools.combinations(tickers, n_tickers_selected)), n_combinations)"
   ]
  },
  {
   "cell_type": "code",
   "execution_count": null,
   "metadata": {},
   "outputs": [],
   "source": [
    "all_portfolios = []\n",
    "rf = 0.0415\n",
    "\n",
    "for combination in sampled_combinations:\n",
    "    data = yf.download(list(combination), start= start_date, end = end_date, progress= False)[\"Close\"]\n",
    "    returns = data.pct_change().dropna()\n",
    "    covariance_matrix = returns.cov()\n",
    "\n",
    "    annual_returns = returns.mean() * 252\n",
    "    annual_cov = covariance_matrix * 252\n",
    "\n",
    "    # Numero de simulaciones de ponderaciones\n",
    "    num_portafolios = 10000\n",
    "\n",
    "    weights_array = np.zeros((num_portafolios, n_tickers_selected))\n",
    "    returns_array = np.zeros(num_portafolios)\n",
    "    risk_array = np.zeros(num_portafolios)\n",
    "    sharpe_array = np.zeros(num_portafolios)\n",
    "\n",
    "    for i in range(num_portafolios):\n",
    "        # generas los pesos aleatorios para cada portafolio\n",
    "        weights = np.random.random(n_tickers_selected)\n",
    "        weights = weights / np.sum(weights)\n",
    "\n",
    "        # obteniendo rendimiento y volatilidad esperada anual por portafolio\n",
    "        portfolio_return = np.dot(annual_returns, weights)\n",
    "        portfolio_risk = np.sqrt(np.dot(weights.T, np.dot(annual_cov, weights)))\n",
    "\n",
    "        # guardando historicos\n",
    "        weights_array[i, :] = weights\n",
    "        returns_array[i] = portfolio_return\n",
    "        risk_array[i] = portfolio_risk\n",
    "        sharpe_array[i] = (portfolio_return - rf) / portfolio_risk\n",
    "\n",
    "    portfolios = pd.DataFrame({\n",
    "        \"Returns\": returns_array,\n",
    "        \"Risk\": risk_array,\n",
    "        \"Sharpe\": sharpe_array\n",
    "    })\n",
    "\n",
    "    for i, symbol in enumerate(combination):\n",
    "        portfolios[symbol + \" Weight\"] = weights_array[:, i]\n",
    "\n",
    "    all_portfolios.append(portfolios)"
   ]
  }
 ],
 "metadata": {
  "kernelspec": {
   "display_name": "base",
   "language": "python",
   "name": "python3"
  },
  "language_info": {
   "codemirror_mode": {
    "name": "ipython",
    "version": 3
   },
   "file_extension": ".py",
   "mimetype": "text/x-python",
   "name": "python",
   "nbconvert_exporter": "python",
   "pygments_lexer": "ipython3",
   "version": "3.12.3"
  }
 },
 "nbformat": 4,
 "nbformat_minor": 2
}
