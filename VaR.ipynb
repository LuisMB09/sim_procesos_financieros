{
 "cells": [
  {
   "cell_type": "code",
   "execution_count": 1,
   "metadata": {},
   "outputs": [],
   "source": [
    "import random\n",
    "import itertools\n",
    "import numpy as np\n",
    "import pandas as pd\n",
    "import datetime as dt\n",
    "import yfinance as yf\n",
    "import matplotlib.pyplot as plt\n",
    "from IPython.display import display"
   ]
  },
  {
   "cell_type": "code",
   "execution_count": 2,
   "metadata": {},
   "outputs": [],
   "source": [
    "df = pd.read_csv('sp_500.csv')\n",
    "tickers = df['Symbol'].tolist()[:100]\n",
    "tickers = [ticker for ticker in tickers if ticker not in ['BRK.B', 'CTLT', 'BF.B', 'ABC', 'ATVI']]"
   ]
  },
  {
   "cell_type": "code",
   "execution_count": 3,
   "metadata": {},
   "outputs": [],
   "source": [
    "start_date = dt.datetime(2022, 1, 1)\n",
    "end_date = dt.datetime(2025, 2, 24)\n",
    "\n",
    "n_tickers_selected = 4\n",
    "n_combinations = 200\n",
    "\n",
    "sampled_combinations = random.sample(list(itertools.combinations(tickers, n_tickers_selected)), n_combinations)"
   ]
  },
  {
   "cell_type": "code",
   "execution_count": 4,
   "metadata": {},
   "outputs": [
    {
     "name": "stdout",
     "output_type": "stream",
     "text": [
      "YF.download() has changed argument auto_adjust default to True\n"
     ]
    }
   ],
   "source": [
    "all_portfolios = []\n",
    "rf = 0.0415\n",
    "\n",
    "for combination in sampled_combinations:\n",
    "    data = yf.download(list(combination), start= start_date, end = end_date, progress= False)[\"Close\"]\n",
    "    returns = data.pct_change().dropna()\n",
    "    covariance_matrix = returns.cov()\n",
    "\n",
    "    annual_returns = returns.mean() * 252\n",
    "    annual_cov = covariance_matrix * 252\n",
    "\n",
    "    # Numero de simulaciones de ponderaciones\n",
    "    num_portafolios = 10000\n",
    "\n",
    "    weights_array = np.zeros((num_portafolios, n_tickers_selected))\n",
    "    returns_array = np.zeros(num_portafolios)\n",
    "    risk_array = np.zeros(num_portafolios)\n",
    "    sharpe_array = np.zeros(num_portafolios)\n",
    "\n",
    "    for i in range(num_portafolios):\n",
    "        # generas los pesos aleatorios para cada portafolio\n",
    "        weights = np.random.random(n_tickers_selected)\n",
    "        weights = weights / np.sum(weights)\n",
    "\n",
    "        # obteniendo rendimiento y volatilidad esperada anual por portafolio\n",
    "        portfolio_return = np.dot(annual_returns, weights)\n",
    "        portfolio_risk = np.sqrt(np.dot(weights.T, np.dot(annual_cov, weights)))\n",
    "\n",
    "        # guardando historicos\n",
    "        weights_array[i, :] = weights\n",
    "        returns_array[i] = portfolio_return\n",
    "        risk_array[i] = portfolio_risk\n",
    "        sharpe_array[i] = (portfolio_return - rf) / portfolio_risk\n",
    "\n",
    "    portfolios = pd.DataFrame({\n",
    "        \"Returns\": returns_array,\n",
    "        \"Risk\": risk_array,\n",
    "        \"Sharpe\": sharpe_array\n",
    "    })\n",
    "\n",
    "    for i, symbol in enumerate(combination):\n",
    "        portfolios[symbol + \" Weight\"] = weights_array[:, i]\n",
    "\n",
    "    all_portfolios.append(portfolios)"
   ]
  },
  {
   "cell_type": "code",
   "execution_count": 5,
   "metadata": {},
   "outputs": [],
   "source": [
    "todo = pd.concat(all_portfolios)\n",
    "\n",
    "sorted_todo = todo.sort_values(\"Sharpe\", ascending=False)\n",
    "\n",
    "selected_rows = []\n",
    "used_tickers = set()\n",
    "for idx, row in sorted_todo.iterrows():\n",
    "    # extract tickers from non-NaN weight columns\n",
    "    row_tickers = [col.replace(\" Weight\", \"\") for col in todo.columns if col.endswith(\"Weight\") and pd.notna(row[col])]\n",
    "    if set(row_tickers) & used_tickers:\n",
    "        continue\n",
    "    selected_rows.append(row)\n",
    "    used_tickers.update(row_tickers)\n",
    "    if len(selected_rows) >= 10:\n",
    "        break\n",
    "\n",
    "top_10 = pd.DataFrame(selected_rows)\n",
    "# Rename weight columns to only show the ticker name\n",
    "top_10.rename(columns=lambda col: col.replace(\" Weight\", \"\") if col.endswith(\" Weight\") else col, inplace=True)"
   ]
  },
  {
   "cell_type": "code",
   "execution_count": 6,
   "metadata": {},
   "outputs": [],
   "source": [
    "sharpe_df = []\n",
    "for i in range(10):\n",
    "    clean_todo = top_10.iloc[i:i+1]\n",
    "    clean_todo = clean_todo.dropna(axis=1, how='all')\n",
    "    sharpe_df.append(clean_todo)"
   ]
  },
  {
   "cell_type": "code",
   "execution_count": 7,
   "metadata": {},
   "outputs": [],
   "source": [
    "def get_data(stocks, start_date, end_date):\n",
    "    prices = yf.download(stocks, start_date, end_date, progress = False)[\"Close\"]\n",
    "    returns = prices.pct_change().dropna()\n",
    "    mean_returns = returns.mean()\n",
    "    cov_returns = returns.cov()\n",
    "    return mean_returns, cov_returns, prices"
   ]
  },
  {
   "cell_type": "code",
   "execution_count": 8,
   "metadata": {},
   "outputs": [],
   "source": [
    "def simular_precios(mean_returns, cov_returns, prices, num_dias, stocks, weights):\n",
    "\n",
    "    N = 10000\n",
    "    portfolio_return = np.dot(weights, mean_returns)\n",
    "\n",
    "    portfolio_simulated_returns = np.zeros((num_dias, N)) # filas x columnas\n",
    "    mean_returns = np.full(shape = (num_dias, len(stocks)), fill_value=portfolio_return)\n",
    "\n",
    "    for m in range(N):\n",
    "        L = np.linalg.cholesky(cov_returns)\n",
    "        Z = np.random.normal(size=(num_dias, len(stocks))) # Matriz de n_dias (filas) y n_stocks (columnas)\n",
    "        daily_returns = mean_returns.T + np.dot(L, Z.T)\n",
    "        portfolio_simulated_returns [:, m] = np.cumprod(np.dot(weights, daily_returns) + 1)\n",
    "    \n",
    "    return portfolio_simulated_returns"
   ]
  },
  {
   "cell_type": "code",
   "execution_count": 9,
   "metadata": {},
   "outputs": [],
   "source": [
    "max_sharpe_list = [sharpe_df[i] for i in range(10)]"
   ]
  },
  {
   "cell_type": "code",
   "execution_count": 10,
   "metadata": {},
   "outputs": [],
   "source": [
    "start_date = dt.datetime(2022, 1, 1)\n",
    "end_date = dt.datetime(2025, 2, 24)\n",
    "stocks = max_sharpe_list[0].columns[3:-1].tolist()\n",
    "weights = max_sharpe_list[0].values[0][3:-1]\n",
    "num_dias = 14"
   ]
  },
  {
   "cell_type": "code",
   "execution_count": 11,
   "metadata": {},
   "outputs": [],
   "source": [
    "mean_returns, cov_returns, prices = get_data(stocks, start_date, end_date)\n",
    "portafolios_simulados = simular_precios(mean_returns, cov_returns, prices, num_dias, stocks, weights)"
   ]
  },
  {
   "cell_type": "code",
   "execution_count": 12,
   "metadata": {},
   "outputs": [],
   "source": [
    "var_list = []\n",
    "\n",
    "for i in range(len(max_sharpe_list)):\n",
    "    start_date = dt.datetime(2022, 1, 1)\n",
    "    end_date = dt.datetime(2025, 2, 24)\n",
    "    stocks = max_sharpe_list[i].columns[3:-1].tolist()\n",
    "    weights = max_sharpe_list[i].values[0][3:-1]\n",
    "    num_dias = 14\n",
    "\n",
    "    mean_returns, cov_returns, prices = get_data(stocks, start_date, end_date)\n",
    "    portafolios_simulados = simular_precios(mean_returns, cov_returns, prices, num_dias, stocks, weights)\n",
    "    var = np.percentile(portafolios_simulados[-1, :], 5) - 1\n",
    "    var_list.append(var)\n"
   ]
  },
  {
   "cell_type": "code",
   "execution_count": 13,
   "metadata": {},
   "outputs": [],
   "source": [
    "for i in range(len(max_sharpe_list)):\n",
    "    max_sharpe_list[i]['VaR'] = var_list[i]"
   ]
  },
  {
   "cell_type": "code",
   "execution_count": 14,
   "metadata": {},
   "outputs": [
    {
     "name": "stdout",
     "output_type": "stream",
     "text": [
      "Portafolio 1\n"
     ]
    },
    {
     "data": {
      "text/html": [
       "<div>\n",
       "<style scoped>\n",
       "    .dataframe tbody tr th:only-of-type {\n",
       "        vertical-align: middle;\n",
       "    }\n",
       "\n",
       "    .dataframe tbody tr th {\n",
       "        vertical-align: top;\n",
       "    }\n",
       "\n",
       "    .dataframe thead th {\n",
       "        text-align: right;\n",
       "    }\n",
       "</style>\n",
       "<table border=\"1\" class=\"dataframe\">\n",
       "  <thead>\n",
       "    <tr style=\"text-align: right;\">\n",
       "      <th></th>\n",
       "      <th>Returns</th>\n",
       "      <th>Risk</th>\n",
       "      <th>Sharpe</th>\n",
       "      <th>ALK</th>\n",
       "      <th>T</th>\n",
       "      <th>CAH</th>\n",
       "      <th>KMX</th>\n",
       "      <th>VaR</th>\n",
       "    </tr>\n",
       "  </thead>\n",
       "  <tbody>\n",
       "    <tr>\n",
       "      <th>1389</th>\n",
       "      <td>0.30241</td>\n",
       "      <td>0.196506</td>\n",
       "      <td>1.327745</td>\n",
       "      <td>0.001705</td>\n",
       "      <td>0.759228</td>\n",
       "      <td>0.008578</td>\n",
       "      <td>0.230489</td>\n",
       "      <td>-0.056882</td>\n",
       "    </tr>\n",
       "  </tbody>\n",
       "</table>\n",
       "</div>"
      ],
      "text/plain": [
       "      Returns      Risk    Sharpe       ALK         T       CAH       KMX  \\\n",
       "1389  0.30241  0.196506  1.327745  0.001705  0.759228  0.008578  0.230489   \n",
       "\n",
       "           VaR  \n",
       "1389 -0.056882  "
      ]
     },
     "metadata": {},
     "output_type": "display_data"
    },
    {
     "name": "stdout",
     "output_type": "stream",
     "text": [
      "Portafolio 2\n"
     ]
    },
    {
     "data": {
      "text/html": [
       "<div>\n",
       "<style scoped>\n",
       "    .dataframe tbody tr th:only-of-type {\n",
       "        vertical-align: middle;\n",
       "    }\n",
       "\n",
       "    .dataframe tbody tr th {\n",
       "        vertical-align: top;\n",
       "    }\n",
       "\n",
       "    .dataframe thead th {\n",
       "        text-align: right;\n",
       "    }\n",
       "</style>\n",
       "<table border=\"1\" class=\"dataframe\">\n",
       "  <thead>\n",
       "    <tr style=\"text-align: right;\">\n",
       "      <th></th>\n",
       "      <th>Returns</th>\n",
       "      <th>Risk</th>\n",
       "      <th>Sharpe</th>\n",
       "      <th>CBRE</th>\n",
       "      <th>CPT</th>\n",
       "      <th>ACGL</th>\n",
       "      <th>AVGO</th>\n",
       "      <th>VaR</th>\n",
       "    </tr>\n",
       "  </thead>\n",
       "  <tbody>\n",
       "    <tr>\n",
       "      <th>2199</th>\n",
       "      <td>0.366401</td>\n",
       "      <td>0.251566</td>\n",
       "      <td>1.291515</td>\n",
       "      <td>0.002479</td>\n",
       "      <td>0.022062</td>\n",
       "      <td>0.522522</td>\n",
       "      <td>0.452937</td>\n",
       "      <td>-0.050994</td>\n",
       "    </tr>\n",
       "  </tbody>\n",
       "</table>\n",
       "</div>"
      ],
      "text/plain": [
       "       Returns      Risk    Sharpe      CBRE       CPT      ACGL      AVGO  \\\n",
       "2199  0.366401  0.251566  1.291515  0.002479  0.022062  0.522522  0.452937   \n",
       "\n",
       "           VaR  \n",
       "2199 -0.050994  "
      ]
     },
     "metadata": {},
     "output_type": "display_data"
    },
    {
     "name": "stdout",
     "output_type": "stream",
     "text": [
      "Portafolio 3\n"
     ]
    },
    {
     "data": {
      "text/html": [
       "<div>\n",
       "<style scoped>\n",
       "    .dataframe tbody tr th:only-of-type {\n",
       "        vertical-align: middle;\n",
       "    }\n",
       "\n",
       "    .dataframe tbody tr th {\n",
       "        vertical-align: top;\n",
       "    }\n",
       "\n",
       "    .dataframe thead th {\n",
       "        text-align: right;\n",
       "    }\n",
       "</style>\n",
       "<table border=\"1\" class=\"dataframe\">\n",
       "  <thead>\n",
       "    <tr style=\"text-align: right;\">\n",
       "      <th></th>\n",
       "      <th>Returns</th>\n",
       "      <th>Risk</th>\n",
       "      <th>Sharpe</th>\n",
       "      <th>APTV</th>\n",
       "      <th>ADI</th>\n",
       "      <th>BBWI</th>\n",
       "      <th>BSX</th>\n",
       "      <th>VaR</th>\n",
       "    </tr>\n",
       "  </thead>\n",
       "  <tbody>\n",
       "    <tr>\n",
       "      <th>8455</th>\n",
       "      <td>0.276688</td>\n",
       "      <td>0.208904</td>\n",
       "      <td>1.125816</td>\n",
       "      <td>0.016956</td>\n",
       "      <td>0.005663</td>\n",
       "      <td>0.058764</td>\n",
       "      <td>0.918618</td>\n",
       "      <td>-0.012676</td>\n",
       "    </tr>\n",
       "  </tbody>\n",
       "</table>\n",
       "</div>"
      ],
      "text/plain": [
       "       Returns      Risk    Sharpe      APTV       ADI      BBWI       BSX  \\\n",
       "8455  0.276688  0.208904  1.125816  0.016956  0.005663  0.058764  0.918618   \n",
       "\n",
       "           VaR  \n",
       "8455 -0.012676  "
      ]
     },
     "metadata": {},
     "output_type": "display_data"
    },
    {
     "name": "stdout",
     "output_type": "stream",
     "text": [
      "Portafolio 4\n"
     ]
    },
    {
     "data": {
      "text/html": [
       "<div>\n",
       "<style scoped>\n",
       "    .dataframe tbody tr th:only-of-type {\n",
       "        vertical-align: middle;\n",
       "    }\n",
       "\n",
       "    .dataframe tbody tr th {\n",
       "        vertical-align: top;\n",
       "    }\n",
       "\n",
       "    .dataframe thead th {\n",
       "        text-align: right;\n",
       "    }\n",
       "</style>\n",
       "<table border=\"1\" class=\"dataframe\">\n",
       "  <thead>\n",
       "    <tr style=\"text-align: right;\">\n",
       "      <th></th>\n",
       "      <th>Returns</th>\n",
       "      <th>Risk</th>\n",
       "      <th>Sharpe</th>\n",
       "      <th>ATO</th>\n",
       "      <th>CBOE</th>\n",
       "      <th>CPB</th>\n",
       "      <th>AJG</th>\n",
       "      <th>VaR</th>\n",
       "    </tr>\n",
       "  </thead>\n",
       "  <tbody>\n",
       "    <tr>\n",
       "      <th>6345</th>\n",
       "      <td>0.215894</td>\n",
       "      <td>0.166279</td>\n",
       "      <td>1.048804</td>\n",
       "      <td>0.196636</td>\n",
       "      <td>0.000415</td>\n",
       "      <td>0.249126</td>\n",
       "      <td>0.553823</td>\n",
       "      <td>-0.029056</td>\n",
       "    </tr>\n",
       "  </tbody>\n",
       "</table>\n",
       "</div>"
      ],
      "text/plain": [
       "       Returns      Risk    Sharpe       ATO      CBOE       CPB       AJG  \\\n",
       "6345  0.215894  0.166279  1.048804  0.196636  0.000415  0.249126  0.553823   \n",
       "\n",
       "           VaR  \n",
       "6345 -0.029056  "
      ]
     },
     "metadata": {},
     "output_type": "display_data"
    },
    {
     "name": "stdout",
     "output_type": "stream",
     "text": [
      "Portafolio 5\n"
     ]
    },
    {
     "data": {
      "text/html": [
       "<div>\n",
       "<style scoped>\n",
       "    .dataframe tbody tr th:only-of-type {\n",
       "        vertical-align: middle;\n",
       "    }\n",
       "\n",
       "    .dataframe tbody tr th {\n",
       "        vertical-align: top;\n",
       "    }\n",
       "\n",
       "    .dataframe thead th {\n",
       "        text-align: right;\n",
       "    }\n",
       "</style>\n",
       "<table border=\"1\" class=\"dataframe\">\n",
       "  <thead>\n",
       "    <tr style=\"text-align: right;\">\n",
       "      <th></th>\n",
       "      <th>Returns</th>\n",
       "      <th>Risk</th>\n",
       "      <th>Sharpe</th>\n",
       "      <th>BA</th>\n",
       "      <th>WRB</th>\n",
       "      <th>BG</th>\n",
       "      <th>AFL</th>\n",
       "      <th>VaR</th>\n",
       "    </tr>\n",
       "  </thead>\n",
       "  <tbody>\n",
       "    <tr>\n",
       "      <th>664</th>\n",
       "      <td>0.221464</td>\n",
       "      <td>0.19447</td>\n",
       "      <td>0.925407</td>\n",
       "      <td>0.002163</td>\n",
       "      <td>0.006518</td>\n",
       "      <td>0.334493</td>\n",
       "      <td>0.656826</td>\n",
       "      <td>-0.028583</td>\n",
       "    </tr>\n",
       "  </tbody>\n",
       "</table>\n",
       "</div>"
      ],
      "text/plain": [
       "      Returns     Risk    Sharpe        BA       WRB        BG       AFL  \\\n",
       "664  0.221464  0.19447  0.925407  0.002163  0.006518  0.334493  0.656826   \n",
       "\n",
       "          VaR  \n",
       "664 -0.028583  "
      ]
     },
     "metadata": {},
     "output_type": "display_data"
    },
    {
     "name": "stdout",
     "output_type": "stream",
     "text": [
      "Portafolio 6\n"
     ]
    },
    {
     "data": {
      "text/html": [
       "<div>\n",
       "<style scoped>\n",
       "    .dataframe tbody tr th:only-of-type {\n",
       "        vertical-align: middle;\n",
       "    }\n",
       "\n",
       "    .dataframe tbody tr th {\n",
       "        vertical-align: top;\n",
       "    }\n",
       "\n",
       "    .dataframe thead th {\n",
       "        text-align: right;\n",
       "    }\n",
       "</style>\n",
       "<table border=\"1\" class=\"dataframe\">\n",
       "  <thead>\n",
       "    <tr style=\"text-align: right;\">\n",
       "      <th></th>\n",
       "      <th>Returns</th>\n",
       "      <th>Risk</th>\n",
       "      <th>Sharpe</th>\n",
       "      <th>ABT</th>\n",
       "      <th>ABBV</th>\n",
       "      <th>AXP</th>\n",
       "      <th>CHRW</th>\n",
       "      <th>VaR</th>\n",
       "    </tr>\n",
       "  </thead>\n",
       "  <tbody>\n",
       "    <tr>\n",
       "      <th>5493</th>\n",
       "      <td>0.208697</td>\n",
       "      <td>0.18836</td>\n",
       "      <td>0.887647</td>\n",
       "      <td>0.558134</td>\n",
       "      <td>0.011707</td>\n",
       "      <td>0.428399</td>\n",
       "      <td>0.00176</td>\n",
       "      <td>-0.05952</td>\n",
       "    </tr>\n",
       "  </tbody>\n",
       "</table>\n",
       "</div>"
      ],
      "text/plain": [
       "       Returns     Risk    Sharpe       ABT      ABBV       AXP     CHRW  \\\n",
       "5493  0.208697  0.18836  0.887647  0.558134  0.011707  0.428399  0.00176   \n",
       "\n",
       "          VaR  \n",
       "5493 -0.05952  "
      ]
     },
     "metadata": {},
     "output_type": "display_data"
    },
    {
     "name": "stdout",
     "output_type": "stream",
     "text": [
      "Portafolio 7\n"
     ]
    },
    {
     "data": {
      "text/html": [
       "<div>\n",
       "<style scoped>\n",
       "    .dataframe tbody tr th:only-of-type {\n",
       "        vertical-align: middle;\n",
       "    }\n",
       "\n",
       "    .dataframe tbody tr th {\n",
       "        vertical-align: top;\n",
       "    }\n",
       "\n",
       "    .dataframe thead th {\n",
       "        text-align: right;\n",
       "    }\n",
       "</style>\n",
       "<table border=\"1\" class=\"dataframe\">\n",
       "  <thead>\n",
       "    <tr style=\"text-align: right;\">\n",
       "      <th></th>\n",
       "      <th>Returns</th>\n",
       "      <th>Risk</th>\n",
       "      <th>Sharpe</th>\n",
       "      <th>AEE</th>\n",
       "      <th>BIIB</th>\n",
       "      <th>CCL</th>\n",
       "      <th>ANET</th>\n",
       "      <th>VaR</th>\n",
       "    </tr>\n",
       "  </thead>\n",
       "  <tbody>\n",
       "    <tr>\n",
       "      <th>4067</th>\n",
       "      <td>0.315135</td>\n",
       "      <td>0.316487</td>\n",
       "      <td>0.864604</td>\n",
       "      <td>0.287898</td>\n",
       "      <td>0.007867</td>\n",
       "      <td>0.044702</td>\n",
       "      <td>0.659534</td>\n",
       "      <td>-0.025596</td>\n",
       "    </tr>\n",
       "  </tbody>\n",
       "</table>\n",
       "</div>"
      ],
      "text/plain": [
       "       Returns      Risk    Sharpe       AEE      BIIB       CCL      ANET  \\\n",
       "4067  0.315135  0.316487  0.864604  0.287898  0.007867  0.044702  0.659534   \n",
       "\n",
       "           VaR  \n",
       "4067 -0.025596  "
      ]
     },
     "metadata": {},
     "output_type": "display_data"
    },
    {
     "name": "stdout",
     "output_type": "stream",
     "text": [
      "Portafolio 8\n"
     ]
    },
    {
     "data": {
      "text/html": [
       "<div>\n",
       "<style scoped>\n",
       "    .dataframe tbody tr th:only-of-type {\n",
       "        vertical-align: middle;\n",
       "    }\n",
       "\n",
       "    .dataframe tbody tr th {\n",
       "        vertical-align: top;\n",
       "    }\n",
       "\n",
       "    .dataframe thead th {\n",
       "        text-align: right;\n",
       "    }\n",
       "</style>\n",
       "<table border=\"1\" class=\"dataframe\">\n",
       "  <thead>\n",
       "    <tr style=\"text-align: right;\">\n",
       "      <th></th>\n",
       "      <th>Returns</th>\n",
       "      <th>Risk</th>\n",
       "      <th>Sharpe</th>\n",
       "      <th>BIO</th>\n",
       "      <th>BKR</th>\n",
       "      <th>MO</th>\n",
       "      <th>AMT</th>\n",
       "      <th>VaR</th>\n",
       "    </tr>\n",
       "  </thead>\n",
       "  <tbody>\n",
       "    <tr>\n",
       "      <th>7560</th>\n",
       "      <td>0.201183</td>\n",
       "      <td>0.205472</td>\n",
       "      <td>0.777154</td>\n",
       "      <td>0.553948</td>\n",
       "      <td>0.44103</td>\n",
       "      <td>0.002906</td>\n",
       "      <td>0.002117</td>\n",
       "      <td>-0.100674</td>\n",
       "    </tr>\n",
       "  </tbody>\n",
       "</table>\n",
       "</div>"
      ],
      "text/plain": [
       "       Returns      Risk    Sharpe       BIO      BKR        MO       AMT  \\\n",
       "7560  0.201183  0.205472  0.777154  0.553948  0.44103  0.002906  0.002117   \n",
       "\n",
       "           VaR  \n",
       "7560 -0.100674  "
      ]
     },
     "metadata": {},
     "output_type": "display_data"
    },
    {
     "name": "stdout",
     "output_type": "stream",
     "text": [
      "Portafolio 9\n"
     ]
    },
    {
     "data": {
      "text/html": [
       "<div>\n",
       "<style scoped>\n",
       "    .dataframe tbody tr th:only-of-type {\n",
       "        vertical-align: middle;\n",
       "    }\n",
       "\n",
       "    .dataframe tbody tr th {\n",
       "        vertical-align: top;\n",
       "    }\n",
       "\n",
       "    .dataframe thead th {\n",
       "        text-align: right;\n",
       "    }\n",
       "</style>\n",
       "<table border=\"1\" class=\"dataframe\">\n",
       "  <thead>\n",
       "    <tr style=\"text-align: right;\">\n",
       "      <th></th>\n",
       "      <th>Returns</th>\n",
       "      <th>Risk</th>\n",
       "      <th>Sharpe</th>\n",
       "      <th>AMP</th>\n",
       "      <th>ADSK</th>\n",
       "      <th>AMCR</th>\n",
       "      <th>ALL</th>\n",
       "      <th>VaR</th>\n",
       "    </tr>\n",
       "  </thead>\n",
       "  <tbody>\n",
       "    <tr>\n",
       "      <th>3850</th>\n",
       "      <td>0.216187</td>\n",
       "      <td>0.229537</td>\n",
       "      <td>0.761038</td>\n",
       "      <td>0.028548</td>\n",
       "      <td>0.600045</td>\n",
       "      <td>0.370994</td>\n",
       "      <td>0.000413</td>\n",
       "      <td>-0.077224</td>\n",
       "    </tr>\n",
       "  </tbody>\n",
       "</table>\n",
       "</div>"
      ],
      "text/plain": [
       "       Returns      Risk    Sharpe       AMP      ADSK      AMCR       ALL  \\\n",
       "3850  0.216187  0.229537  0.761038  0.028548  0.600045  0.370994  0.000413   \n",
       "\n",
       "           VaR  \n",
       "3850 -0.077224  "
      ]
     },
     "metadata": {},
     "output_type": "display_data"
    },
    {
     "name": "stdout",
     "output_type": "stream",
     "text": [
      "Portafolio 10\n"
     ]
    },
    {
     "data": {
      "text/html": [
       "<div>\n",
       "<style scoped>\n",
       "    .dataframe tbody tr th:only-of-type {\n",
       "        vertical-align: middle;\n",
       "    }\n",
       "\n",
       "    .dataframe tbody tr th {\n",
       "        vertical-align: top;\n",
       "    }\n",
       "\n",
       "    .dataframe thead th {\n",
       "        text-align: right;\n",
       "    }\n",
       "</style>\n",
       "<table border=\"1\" class=\"dataframe\">\n",
       "  <thead>\n",
       "    <tr style=\"text-align: right;\">\n",
       "      <th></th>\n",
       "      <th>Returns</th>\n",
       "      <th>Risk</th>\n",
       "      <th>Sharpe</th>\n",
       "      <th>ADBE</th>\n",
       "      <th>BKNG</th>\n",
       "      <th>AES</th>\n",
       "      <th>LNT</th>\n",
       "      <th>VaR</th>\n",
       "    </tr>\n",
       "  </thead>\n",
       "  <tbody>\n",
       "    <tr>\n",
       "      <th>3867</th>\n",
       "      <td>0.234539</td>\n",
       "      <td>0.262016</td>\n",
       "      <td>0.736745</td>\n",
       "      <td>0.008943</td>\n",
       "      <td>0.198879</td>\n",
       "      <td>0.003251</td>\n",
       "      <td>0.788927</td>\n",
       "      <td>-0.028696</td>\n",
       "    </tr>\n",
       "  </tbody>\n",
       "</table>\n",
       "</div>"
      ],
      "text/plain": [
       "       Returns      Risk    Sharpe      ADBE      BKNG       AES       LNT  \\\n",
       "3867  0.234539  0.262016  0.736745  0.008943  0.198879  0.003251  0.788927   \n",
       "\n",
       "           VaR  \n",
       "3867 -0.028696  "
      ]
     },
     "metadata": {},
     "output_type": "display_data"
    }
   ],
   "source": [
    "for i in range(10):\n",
    "    print(f\"Portafolio {i+1}\")\n",
    "    display(max_sharpe_list[i])"
   ]
  }
 ],
 "metadata": {
  "kernelspec": {
   "display_name": "base",
   "language": "python",
   "name": "python3"
  },
  "language_info": {
   "codemirror_mode": {
    "name": "ipython",
    "version": 3
   },
   "file_extension": ".py",
   "mimetype": "text/x-python",
   "name": "python",
   "nbconvert_exporter": "python",
   "pygments_lexer": "ipython3",
   "version": "3.12.3"
  }
 },
 "nbformat": 4,
 "nbformat_minor": 2
}
