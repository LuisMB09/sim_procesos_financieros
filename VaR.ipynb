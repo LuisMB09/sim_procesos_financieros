{
 "cells": [
  {
   "cell_type": "code",
   "execution_count": 1,
   "metadata": {},
   "outputs": [],
   "source": [
    "import random\n",
    "import itertools\n",
    "import numpy as np\n",
    "import pandas as pd\n",
    "import datetime as dt\n",
    "import yfinance as yf\n",
    "import matplotlib.pyplot as plt\n",
    "from IPython.display import display"
   ]
  },
  {
   "cell_type": "code",
   "execution_count": 2,
   "metadata": {},
   "outputs": [],
   "source": [
    "df = pd.read_csv('sp_500.csv')\n",
    "tickers = df['Symbol'].tolist()[:100]\n",
    "tickers = [ticker for ticker in tickers if ticker not in ['BRK.B', 'CTLT', 'BF.B', 'ABC', 'ATVI']]"
   ]
  },
  {
   "cell_type": "code",
   "execution_count": 3,
   "metadata": {},
   "outputs": [],
   "source": [
    "start_date = dt.datetime(2022, 1, 1)\n",
    "end_date = dt.datetime(2025, 2, 24)\n",
    "\n",
    "n_tickers_selected = 4\n",
    "n_combinations = 200\n",
    "\n",
    "sampled_combinations = random.sample(list(itertools.combinations(tickers, n_tickers_selected)), n_combinations)"
   ]
  },
  {
   "cell_type": "code",
   "execution_count": 4,
   "metadata": {},
   "outputs": [
    {
     "name": "stdout",
     "output_type": "stream",
     "text": [
      "YF.download() has changed argument auto_adjust default to True\n"
     ]
    }
   ],
   "source": [
    "all_portfolios = []\n",
    "rf = 0.0415\n",
    "\n",
    "for combination in sampled_combinations:\n",
    "    data = yf.download(list(combination), start= start_date, end = end_date, progress= False)[\"Close\"]\n",
    "    returns = data.pct_change().dropna()\n",
    "    covariance_matrix = returns.cov()\n",
    "\n",
    "    annual_returns = returns.mean() * 252\n",
    "    annual_cov = covariance_matrix * 252\n",
    "\n",
    "    # Numero de simulaciones de ponderaciones\n",
    "    num_portafolios = 10000\n",
    "\n",
    "    weights_array = np.zeros((num_portafolios, n_tickers_selected))\n",
    "    returns_array = np.zeros(num_portafolios)\n",
    "    risk_array = np.zeros(num_portafolios)\n",
    "    sharpe_array = np.zeros(num_portafolios)\n",
    "\n",
    "    for i in range(num_portafolios):\n",
    "        # generas los pesos aleatorios para cada portafolio\n",
    "        weights = np.random.random(n_tickers_selected)\n",
    "        weights = weights / np.sum(weights)\n",
    "\n",
    "        # obteniendo rendimiento y volatilidad esperada anual por portafolio\n",
    "        portfolio_return = np.dot(annual_returns, weights)\n",
    "        portfolio_risk = np.sqrt(np.dot(weights.T, np.dot(annual_cov, weights)))\n",
    "\n",
    "        # guardando historicos\n",
    "        weights_array[i, :] = weights\n",
    "        returns_array[i] = portfolio_return\n",
    "        risk_array[i] = portfolio_risk\n",
    "        sharpe_array[i] = (portfolio_return - rf) / portfolio_risk\n",
    "\n",
    "    portfolios = pd.DataFrame({\n",
    "        \"Returns\": returns_array,\n",
    "        \"Risk\": risk_array,\n",
    "        \"Sharpe\": sharpe_array\n",
    "    })\n",
    "\n",
    "    for i, symbol in enumerate(combination):\n",
    "        portfolios[symbol + \" Weight\"] = weights_array[:, i]\n",
    "\n",
    "    all_portfolios.append(portfolios)"
   ]
  },
  {
   "cell_type": "code",
   "execution_count": 5,
   "metadata": {},
   "outputs": [],
   "source": [
    "todo = pd.concat(all_portfolios)\n",
    "\n",
    "sorted_todo = todo.sort_values(\"Sharpe\", ascending=False)\n",
    "\n",
    "selected_rows = []\n",
    "used_tickers = set()\n",
    "for idx, row in sorted_todo.iterrows():\n",
    "    # extract tickers from non-NaN weight columns\n",
    "    row_tickers = [col.replace(\" Weight\", \"\") for col in todo.columns if col.endswith(\"Weight\") and pd.notna(row[col])]\n",
    "    if set(row_tickers) & used_tickers:\n",
    "        continue\n",
    "    selected_rows.append(row)\n",
    "    used_tickers.update(row_tickers)\n",
    "    if len(selected_rows) >= 10:\n",
    "        break\n",
    "\n",
    "top_10 = pd.DataFrame(selected_rows)\n",
    "# Rename weight columns to only show the ticker name\n",
    "top_10.rename(columns=lambda col: col.replace(\" Weight\", \"\") if col.endswith(\" Weight\") else col, inplace=True)"
   ]
  },
  {
   "cell_type": "code",
   "execution_count": 6,
   "metadata": {},
   "outputs": [],
   "source": [
    "sharpe_df = []\n",
    "for i in range(10):\n",
    "    clean_todo = top_10.iloc[i:i+1]\n",
    "    clean_todo = clean_todo.dropna(axis=1, how='all')\n",
    "    sharpe_df.append(clean_todo)"
   ]
  },
  {
   "cell_type": "code",
   "execution_count": 7,
   "metadata": {},
   "outputs": [],
   "source": [
    "def get_data(stocks, start_date, end_date):\n",
    "    prices = yf.download(stocks, start_date, end_date, progress = False)[\"Close\"]\n",
    "    returns = prices.pct_change().dropna()\n",
    "    mean_returns = returns.mean()\n",
    "    cov_returns = returns.cov()\n",
    "    return mean_returns, cov_returns, prices"
   ]
  },
  {
   "cell_type": "code",
   "execution_count": 8,
   "metadata": {},
   "outputs": [],
   "source": [
    "def simular_precios(mean_returns, cov_returns, prices, num_dias, stocks, weights):\n",
    "\n",
    "    N = 10000\n",
    "    portfolio_return = np.dot(weights, mean_returns)\n",
    "\n",
    "    portfolio_simulated_returns = np.zeros((num_dias, N)) # filas x columnas\n",
    "    mean_returns = np.full(shape = (num_dias, len(stocks)), fill_value=portfolio_return)\n",
    "\n",
    "    for m in range(N):\n",
    "        L = np.linalg.cholesky(cov_returns)\n",
    "        Z = np.random.normal(size=(num_dias, len(stocks))) # Matriz de n_dias (filas) y n_stocks (columnas)\n",
    "        daily_returns = mean_returns.T + np.dot(L, Z.T)\n",
    "        portfolio_simulated_returns [:, m] = np.cumprod(np.dot(weights, daily_returns) + 1)\n",
    "    \n",
    "    return portfolio_simulated_returns"
   ]
  },
  {
   "cell_type": "code",
   "execution_count": 9,
   "metadata": {},
   "outputs": [],
   "source": [
    "max_sharpe_list = [sharpe_df[i] for i in range(10)]"
   ]
  },
  {
   "cell_type": "code",
   "execution_count": 10,
   "metadata": {},
   "outputs": [],
   "source": [
    "start_date = dt.datetime(2022, 1, 1)\n",
    "end_date = dt.datetime(2025, 2, 24)\n",
    "stocks = max_sharpe_list[0].columns[3:-1].tolist()\n",
    "weights = max_sharpe_list[0].values[0][3:-1]\n",
    "num_dias = 14"
   ]
  },
  {
   "cell_type": "code",
   "execution_count": 11,
   "metadata": {},
   "outputs": [],
   "source": [
    "mean_returns, cov_returns, prices = get_data(stocks, start_date, end_date)\n",
    "portafolios_simulados = simular_precios(mean_returns, cov_returns, prices, num_dias, stocks, weights)"
   ]
  },
  {
   "cell_type": "code",
   "execution_count": 12,
   "metadata": {},
   "outputs": [],
   "source": [
    "var_list = []\n",
    "\n",
    "for i in range(len(max_sharpe_list)):\n",
    "    start_date = dt.datetime(2022, 1, 1)\n",
    "    end_date = dt.datetime(2025, 2, 24)\n",
    "    stocks = max_sharpe_list[i].columns[3:-1].tolist()\n",
    "    weights = max_sharpe_list[i].values[0][3:-1]\n",
    "\n",
    "    mean_returns, cov_returns, prices = get_data(stocks, start_date, end_date)\n",
    "    portafolios_simulados = simular_precios(mean_returns, cov_returns, prices, num_dias, stocks, weights)\n",
    "    var = np.percentile(portafolios_simulados[-1, :], 5) - 1\n",
    "    var_list.append(var)\n"
   ]
  },
  {
   "cell_type": "code",
   "execution_count": 13,
   "metadata": {},
   "outputs": [],
   "source": [
    "for i in range(len(max_sharpe_list)):\n",
    "    max_sharpe_list[i]['VaR'] = var_list[i]"
   ]
  },
  {
   "cell_type": "code",
   "execution_count": 14,
   "metadata": {},
   "outputs": [
    {
     "name": "stdout",
     "output_type": "stream",
     "text": [
      "Portafolio 1\n"
     ]
    },
    {
     "data": {
      "text/html": [
       "<div>\n",
       "<style scoped>\n",
       "    .dataframe tbody tr th:only-of-type {\n",
       "        vertical-align: middle;\n",
       "    }\n",
       "\n",
       "    .dataframe tbody tr th {\n",
       "        vertical-align: top;\n",
       "    }\n",
       "\n",
       "    .dataframe thead th {\n",
       "        text-align: right;\n",
       "    }\n",
       "</style>\n",
       "<table border=\"1\" class=\"dataframe\">\n",
       "  <thead>\n",
       "    <tr style=\"text-align: right;\">\n",
       "      <th></th>\n",
       "      <th>Returns</th>\n",
       "      <th>Risk</th>\n",
       "      <th>Sharpe</th>\n",
       "      <th>ALL</th>\n",
       "      <th>APH</th>\n",
       "      <th>BRO</th>\n",
       "      <th>CAH</th>\n",
       "      <th>VaR</th>\n",
       "    </tr>\n",
       "  </thead>\n",
       "  <tbody>\n",
       "    <tr>\n",
       "      <th>3999</th>\n",
       "      <td>0.292198</td>\n",
       "      <td>0.189352</td>\n",
       "      <td>1.323981</td>\n",
       "      <td>0.046542</td>\n",
       "      <td>0.181244</td>\n",
       "      <td>0.079947</td>\n",
       "      <td>0.692266</td>\n",
       "      <td>-0.023616</td>\n",
       "    </tr>\n",
       "  </tbody>\n",
       "</table>\n",
       "</div>"
      ],
      "text/plain": [
       "       Returns      Risk    Sharpe       ALL       APH       BRO       CAH  \\\n",
       "3999  0.292198  0.189352  1.323981  0.046542  0.181244  0.079947  0.692266   \n",
       "\n",
       "           VaR  \n",
       "3999 -0.023616  "
      ]
     },
     "metadata": {},
     "output_type": "display_data"
    },
    {
     "name": "stdout",
     "output_type": "stream",
     "text": [
      "Portafolio 2\n"
     ]
    },
    {
     "data": {
      "text/html": [
       "<div>\n",
       "<style scoped>\n",
       "    .dataframe tbody tr th:only-of-type {\n",
       "        vertical-align: middle;\n",
       "    }\n",
       "\n",
       "    .dataframe tbody tr th {\n",
       "        vertical-align: top;\n",
       "    }\n",
       "\n",
       "    .dataframe thead th {\n",
       "        text-align: right;\n",
       "    }\n",
       "</style>\n",
       "<table border=\"1\" class=\"dataframe\">\n",
       "  <thead>\n",
       "    <tr style=\"text-align: right;\">\n",
       "      <th></th>\n",
       "      <th>Returns</th>\n",
       "      <th>Risk</th>\n",
       "      <th>Sharpe</th>\n",
       "      <th>BSX</th>\n",
       "      <th>ACGL</th>\n",
       "      <th>BIIB</th>\n",
       "      <th>AIZ</th>\n",
       "      <th>VaR</th>\n",
       "    </tr>\n",
       "  </thead>\n",
       "  <tbody>\n",
       "    <tr>\n",
       "      <th>4220</th>\n",
       "      <td>0.288098</td>\n",
       "      <td>0.187721</td>\n",
       "      <td>1.313642</td>\n",
       "      <td>0.665604</td>\n",
       "      <td>0.303111</td>\n",
       "      <td>0.005372</td>\n",
       "      <td>0.025913</td>\n",
       "      <td>-0.075199</td>\n",
       "    </tr>\n",
       "  </tbody>\n",
       "</table>\n",
       "</div>"
      ],
      "text/plain": [
       "       Returns      Risk    Sharpe       BSX      ACGL      BIIB       AIZ  \\\n",
       "4220  0.288098  0.187721  1.313642  0.665604  0.303111  0.005372  0.025913   \n",
       "\n",
       "           VaR  \n",
       "4220 -0.075199  "
      ]
     },
     "metadata": {},
     "output_type": "display_data"
    },
    {
     "name": "stdout",
     "output_type": "stream",
     "text": [
      "Portafolio 3\n"
     ]
    },
    {
     "data": {
      "text/html": [
       "<div>\n",
       "<style scoped>\n",
       "    .dataframe tbody tr th:only-of-type {\n",
       "        vertical-align: middle;\n",
       "    }\n",
       "\n",
       "    .dataframe tbody tr th {\n",
       "        vertical-align: top;\n",
       "    }\n",
       "\n",
       "    .dataframe thead th {\n",
       "        text-align: right;\n",
       "    }\n",
       "</style>\n",
       "<table border=\"1\" class=\"dataframe\">\n",
       "  <thead>\n",
       "    <tr style=\"text-align: right;\">\n",
       "      <th></th>\n",
       "      <th>Returns</th>\n",
       "      <th>Risk</th>\n",
       "      <th>Sharpe</th>\n",
       "      <th>AVGO</th>\n",
       "      <th>AJG</th>\n",
       "      <th>APD</th>\n",
       "      <th>CCL</th>\n",
       "      <th>VaR</th>\n",
       "    </tr>\n",
       "  </thead>\n",
       "  <tbody>\n",
       "    <tr>\n",
       "      <th>2682</th>\n",
       "      <td>0.332085</td>\n",
       "      <td>0.22872</td>\n",
       "      <td>1.270484</td>\n",
       "      <td>0.353574</td>\n",
       "      <td>0.014753</td>\n",
       "      <td>0.622201</td>\n",
       "      <td>0.009472</td>\n",
       "      <td>-0.089962</td>\n",
       "    </tr>\n",
       "  </tbody>\n",
       "</table>\n",
       "</div>"
      ],
      "text/plain": [
       "       Returns     Risk    Sharpe      AVGO       AJG       APD       CCL  \\\n",
       "2682  0.332085  0.22872  1.270484  0.353574  0.014753  0.622201  0.009472   \n",
       "\n",
       "           VaR  \n",
       "2682 -0.089962  "
      ]
     },
     "metadata": {},
     "output_type": "display_data"
    },
    {
     "name": "stdout",
     "output_type": "stream",
     "text": [
      "Portafolio 4\n"
     ]
    },
    {
     "data": {
      "text/html": [
       "<div>\n",
       "<style scoped>\n",
       "    .dataframe tbody tr th:only-of-type {\n",
       "        vertical-align: middle;\n",
       "    }\n",
       "\n",
       "    .dataframe tbody tr th {\n",
       "        vertical-align: top;\n",
       "    }\n",
       "\n",
       "    .dataframe thead th {\n",
       "        text-align: right;\n",
       "    }\n",
       "</style>\n",
       "<table border=\"1\" class=\"dataframe\">\n",
       "  <thead>\n",
       "    <tr style=\"text-align: right;\">\n",
       "      <th></th>\n",
       "      <th>Returns</th>\n",
       "      <th>Risk</th>\n",
       "      <th>Sharpe</th>\n",
       "      <th>ABT</th>\n",
       "      <th>ABBV</th>\n",
       "      <th>AFL</th>\n",
       "      <th>BWA</th>\n",
       "      <th>VaR</th>\n",
       "    </tr>\n",
       "  </thead>\n",
       "  <tbody>\n",
       "    <tr>\n",
       "      <th>5350</th>\n",
       "      <td>0.212108</td>\n",
       "      <td>0.171265</td>\n",
       "      <td>0.996161</td>\n",
       "      <td>0.360798</td>\n",
       "      <td>0.005275</td>\n",
       "      <td>0.627628</td>\n",
       "      <td>0.006299</td>\n",
       "      <td>-0.055425</td>\n",
       "    </tr>\n",
       "  </tbody>\n",
       "</table>\n",
       "</div>"
      ],
      "text/plain": [
       "       Returns      Risk    Sharpe       ABT      ABBV       AFL       BWA  \\\n",
       "5350  0.212108  0.171265  0.996161  0.360798  0.005275  0.627628  0.006299   \n",
       "\n",
       "           VaR  \n",
       "5350 -0.055425  "
      ]
     },
     "metadata": {},
     "output_type": "display_data"
    },
    {
     "name": "stdout",
     "output_type": "stream",
     "text": [
      "Portafolio 5\n"
     ]
    },
    {
     "data": {
      "text/html": [
       "<div>\n",
       "<style scoped>\n",
       "    .dataframe tbody tr th:only-of-type {\n",
       "        vertical-align: middle;\n",
       "    }\n",
       "\n",
       "    .dataframe tbody tr th {\n",
       "        vertical-align: top;\n",
       "    }\n",
       "\n",
       "    .dataframe thead th {\n",
       "        text-align: right;\n",
       "    }\n",
       "</style>\n",
       "<table border=\"1\" class=\"dataframe\">\n",
       "  <thead>\n",
       "    <tr style=\"text-align: right;\">\n",
       "      <th></th>\n",
       "      <th>Returns</th>\n",
       "      <th>Risk</th>\n",
       "      <th>Sharpe</th>\n",
       "      <th>MO</th>\n",
       "      <th>MMM</th>\n",
       "      <th>ANET</th>\n",
       "      <th>AAPL</th>\n",
       "      <th>VaR</th>\n",
       "    </tr>\n",
       "  </thead>\n",
       "  <tbody>\n",
       "    <tr>\n",
       "      <th>9220</th>\n",
       "      <td>0.245527</td>\n",
       "      <td>0.208473</td>\n",
       "      <td>0.978677</td>\n",
       "      <td>0.356521</td>\n",
       "      <td>0.021477</td>\n",
       "      <td>0.616178</td>\n",
       "      <td>0.005824</td>\n",
       "      <td>-0.065741</td>\n",
       "    </tr>\n",
       "  </tbody>\n",
       "</table>\n",
       "</div>"
      ],
      "text/plain": [
       "       Returns      Risk    Sharpe        MO       MMM      ANET      AAPL  \\\n",
       "9220  0.245527  0.208473  0.978677  0.356521  0.021477  0.616178  0.005824   \n",
       "\n",
       "           VaR  \n",
       "9220 -0.065741  "
      ]
     },
     "metadata": {},
     "output_type": "display_data"
    },
    {
     "name": "stdout",
     "output_type": "stream",
     "text": [
      "Portafolio 6\n"
     ]
    },
    {
     "data": {
      "text/html": [
       "<div>\n",
       "<style scoped>\n",
       "    .dataframe tbody tr th:only-of-type {\n",
       "        vertical-align: middle;\n",
       "    }\n",
       "\n",
       "    .dataframe tbody tr th {\n",
       "        vertical-align: top;\n",
       "    }\n",
       "\n",
       "    .dataframe thead th {\n",
       "        text-align: right;\n",
       "    }\n",
       "</style>\n",
       "<table border=\"1\" class=\"dataframe\">\n",
       "  <thead>\n",
       "    <tr style=\"text-align: right;\">\n",
       "      <th></th>\n",
       "      <th>Returns</th>\n",
       "      <th>Risk</th>\n",
       "      <th>Sharpe</th>\n",
       "      <th>BR</th>\n",
       "      <th>BKNG</th>\n",
       "      <th>ADSK</th>\n",
       "      <th>BKR</th>\n",
       "      <th>VaR</th>\n",
       "    </tr>\n",
       "  </thead>\n",
       "  <tbody>\n",
       "    <tr>\n",
       "      <th>5040</th>\n",
       "      <td>0.267644</td>\n",
       "      <td>0.246252</td>\n",
       "      <td>0.918344</td>\n",
       "      <td>0.072017</td>\n",
       "      <td>0.411443</td>\n",
       "      <td>0.001884</td>\n",
       "      <td>0.514656</td>\n",
       "      <td>-0.053171</td>\n",
       "    </tr>\n",
       "  </tbody>\n",
       "</table>\n",
       "</div>"
      ],
      "text/plain": [
       "       Returns      Risk    Sharpe        BR      BKNG      ADSK       BKR  \\\n",
       "5040  0.267644  0.246252  0.918344  0.072017  0.411443  0.001884  0.514656   \n",
       "\n",
       "           VaR  \n",
       "5040 -0.053171  "
      ]
     },
     "metadata": {},
     "output_type": "display_data"
    },
    {
     "name": "stdout",
     "output_type": "stream",
     "text": [
      "Portafolio 7\n"
     ]
    },
    {
     "data": {
      "text/html": [
       "<div>\n",
       "<style scoped>\n",
       "    .dataframe tbody tr th:only-of-type {\n",
       "        vertical-align: middle;\n",
       "    }\n",
       "\n",
       "    .dataframe tbody tr th {\n",
       "        vertical-align: top;\n",
       "    }\n",
       "\n",
       "    .dataframe thead th {\n",
       "        text-align: right;\n",
       "    }\n",
       "</style>\n",
       "<table border=\"1\" class=\"dataframe\">\n",
       "  <thead>\n",
       "    <tr style=\"text-align: right;\">\n",
       "      <th></th>\n",
       "      <th>Returns</th>\n",
       "      <th>Risk</th>\n",
       "      <th>Sharpe</th>\n",
       "      <th>AAP</th>\n",
       "      <th>T</th>\n",
       "      <th>CAT</th>\n",
       "      <th>ATO</th>\n",
       "      <th>VaR</th>\n",
       "    </tr>\n",
       "  </thead>\n",
       "  <tbody>\n",
       "    <tr>\n",
       "      <th>5877</th>\n",
       "      <td>0.192009</td>\n",
       "      <td>0.169721</td>\n",
       "      <td>0.886804</td>\n",
       "      <td>0.000113</td>\n",
       "      <td>0.365604</td>\n",
       "      <td>0.347415</td>\n",
       "      <td>0.286868</td>\n",
       "      <td>-0.050312</td>\n",
       "    </tr>\n",
       "  </tbody>\n",
       "</table>\n",
       "</div>"
      ],
      "text/plain": [
       "       Returns      Risk    Sharpe       AAP         T       CAT       ATO  \\\n",
       "5877  0.192009  0.169721  0.886804  0.000113  0.365604  0.347415  0.286868   \n",
       "\n",
       "           VaR  \n",
       "5877 -0.050312  "
      ]
     },
     "metadata": {},
     "output_type": "display_data"
    },
    {
     "name": "stdout",
     "output_type": "stream",
     "text": [
      "Portafolio 8\n"
     ]
    },
    {
     "data": {
      "text/html": [
       "<div>\n",
       "<style scoped>\n",
       "    .dataframe tbody tr th:only-of-type {\n",
       "        vertical-align: middle;\n",
       "    }\n",
       "\n",
       "    .dataframe tbody tr th {\n",
       "        vertical-align: top;\n",
       "    }\n",
       "\n",
       "    .dataframe thead th {\n",
       "        text-align: right;\n",
       "    }\n",
       "</style>\n",
       "<table border=\"1\" class=\"dataframe\">\n",
       "  <thead>\n",
       "    <tr style=\"text-align: right;\">\n",
       "      <th></th>\n",
       "      <th>Returns</th>\n",
       "      <th>Risk</th>\n",
       "      <th>Sharpe</th>\n",
       "      <th>WRB</th>\n",
       "      <th>AMD</th>\n",
       "      <th>AMP</th>\n",
       "      <th>BK</th>\n",
       "      <th>VaR</th>\n",
       "    </tr>\n",
       "  </thead>\n",
       "  <tbody>\n",
       "    <tr>\n",
       "      <th>2885</th>\n",
       "      <td>0.218994</td>\n",
       "      <td>0.208964</td>\n",
       "      <td>0.8494</td>\n",
       "      <td>0.108753</td>\n",
       "      <td>0.000793</td>\n",
       "      <td>0.350704</td>\n",
       "      <td>0.53975</td>\n",
       "      <td>-0.037689</td>\n",
       "    </tr>\n",
       "  </tbody>\n",
       "</table>\n",
       "</div>"
      ],
      "text/plain": [
       "       Returns      Risk  Sharpe       WRB       AMD       AMP       BK  \\\n",
       "2885  0.218994  0.208964  0.8494  0.108753  0.000793  0.350704  0.53975   \n",
       "\n",
       "           VaR  \n",
       "2885 -0.037689  "
      ]
     },
     "metadata": {},
     "output_type": "display_data"
    },
    {
     "name": "stdout",
     "output_type": "stream",
     "text": [
      "Portafolio 9\n"
     ]
    },
    {
     "data": {
      "text/html": [
       "<div>\n",
       "<style scoped>\n",
       "    .dataframe tbody tr th:only-of-type {\n",
       "        vertical-align: middle;\n",
       "    }\n",
       "\n",
       "    .dataframe tbody tr th {\n",
       "        vertical-align: top;\n",
       "    }\n",
       "\n",
       "    .dataframe thead th {\n",
       "        text-align: right;\n",
       "    }\n",
       "</style>\n",
       "<table border=\"1\" class=\"dataframe\">\n",
       "  <thead>\n",
       "    <tr style=\"text-align: right;\">\n",
       "      <th></th>\n",
       "      <th>Returns</th>\n",
       "      <th>Risk</th>\n",
       "      <th>Sharpe</th>\n",
       "      <th>CHRW</th>\n",
       "      <th>ALLE</th>\n",
       "      <th>AXP</th>\n",
       "      <th>AMGN</th>\n",
       "      <th>VaR</th>\n",
       "    </tr>\n",
       "  </thead>\n",
       "  <tbody>\n",
       "    <tr>\n",
       "      <th>3034</th>\n",
       "      <td>0.194167</td>\n",
       "      <td>0.204104</td>\n",
       "      <td>0.747984</td>\n",
       "      <td>0.016851</td>\n",
       "      <td>0.010912</td>\n",
       "      <td>0.431748</td>\n",
       "      <td>0.540489</td>\n",
       "      <td>-0.050205</td>\n",
       "    </tr>\n",
       "  </tbody>\n",
       "</table>\n",
       "</div>"
      ],
      "text/plain": [
       "       Returns      Risk    Sharpe      CHRW      ALLE       AXP      AMGN  \\\n",
       "3034  0.194167  0.204104  0.747984  0.016851  0.010912  0.431748  0.540489   \n",
       "\n",
       "           VaR  \n",
       "3034 -0.050205  "
      ]
     },
     "metadata": {},
     "output_type": "display_data"
    },
    {
     "name": "stdout",
     "output_type": "stream",
     "text": [
      "Portafolio 10\n"
     ]
    },
    {
     "data": {
      "text/html": [
       "<div>\n",
       "<style scoped>\n",
       "    .dataframe tbody tr th:only-of-type {\n",
       "        vertical-align: middle;\n",
       "    }\n",
       "\n",
       "    .dataframe tbody tr th {\n",
       "        vertical-align: top;\n",
       "    }\n",
       "\n",
       "    .dataframe thead th {\n",
       "        text-align: right;\n",
       "    }\n",
       "</style>\n",
       "<table border=\"1\" class=\"dataframe\">\n",
       "  <thead>\n",
       "    <tr style=\"text-align: right;\">\n",
       "      <th></th>\n",
       "      <th>Returns</th>\n",
       "      <th>Risk</th>\n",
       "      <th>Sharpe</th>\n",
       "      <th>AMT</th>\n",
       "      <th>ANSS</th>\n",
       "      <th>CBOE</th>\n",
       "      <th>CBRE</th>\n",
       "      <th>VaR</th>\n",
       "    </tr>\n",
       "  </thead>\n",
       "  <tbody>\n",
       "    <tr>\n",
       "      <th>8911</th>\n",
       "      <td>0.17878</td>\n",
       "      <td>0.199564</td>\n",
       "      <td>0.687898</td>\n",
       "      <td>0.002738</td>\n",
       "      <td>0.036004</td>\n",
       "      <td>0.882914</td>\n",
       "      <td>0.078344</td>\n",
       "      <td>-0.064684</td>\n",
       "    </tr>\n",
       "  </tbody>\n",
       "</table>\n",
       "</div>"
      ],
      "text/plain": [
       "      Returns      Risk    Sharpe       AMT      ANSS      CBOE      CBRE  \\\n",
       "8911  0.17878  0.199564  0.687898  0.002738  0.036004  0.882914  0.078344   \n",
       "\n",
       "           VaR  \n",
       "8911 -0.064684  "
      ]
     },
     "metadata": {},
     "output_type": "display_data"
    }
   ],
   "source": [
    "for i in range(10):\n",
    "    print(f\"Portafolio {i+1}\")\n",
    "    display(max_sharpe_list[i])"
   ]
  }
 ],
 "metadata": {
  "kernelspec": {
   "display_name": "base",
   "language": "python",
   "name": "python3"
  },
  "language_info": {
   "codemirror_mode": {
    "name": "ipython",
    "version": 3
   },
   "file_extension": ".py",
   "mimetype": "text/x-python",
   "name": "python",
   "nbconvert_exporter": "python",
   "pygments_lexer": "ipython3",
   "version": "3.12.3"
  }
 },
 "nbformat": 4,
 "nbformat_minor": 2
}
