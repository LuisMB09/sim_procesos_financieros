{
 "cells": [
  {
   "cell_type": "code",
   "execution_count": 1,
   "metadata": {},
   "outputs": [],
   "source": [
    "import random\n",
    "import itertools\n",
    "import numpy as np\n",
    "import pandas as pd\n",
    "import datetime as dt\n",
    "import yfinance as yf\n",
    "import matplotlib.pyplot as plt\n",
    "from IPython.display import display"
   ]
  },
  {
   "cell_type": "code",
   "execution_count": 2,
   "metadata": {},
   "outputs": [],
   "source": [
    "df = pd.read_csv('sp_500.csv')\n",
    "tickers = df['Symbol'].tolist()[:100]\n",
    "tickers = [ticker for ticker in tickers if ticker not in ['BRK.B', 'CTLT', 'BF.B', 'ABC', 'ATVI']]"
   ]
  },
  {
   "cell_type": "code",
   "execution_count": 3,
   "metadata": {},
   "outputs": [],
   "source": [
    "start_date = dt.datetime(2022, 1, 1)\n",
    "end_date = dt.datetime(2025, 2, 24)\n",
    "\n",
    "n_tickers_selected = 4\n",
    "n_combinations = 200\n",
    "\n",
    "sampled_combinations = random.sample(list(itertools.combinations(tickers, n_tickers_selected)), n_combinations)"
   ]
  },
  {
   "cell_type": "code",
   "execution_count": 4,
   "metadata": {},
   "outputs": [
    {
     "name": "stdout",
     "output_type": "stream",
     "text": [
      "YF.download() has changed argument auto_adjust default to True\n"
     ]
    }
   ],
   "source": [
    "all_portfolios = []\n",
    "rf = 0.0415\n",
    "\n",
    "for combination in sampled_combinations:\n",
    "    data = yf.download(list(combination), start= start_date, end = end_date, progress= False)[\"Close\"]\n",
    "    returns = data.pct_change().dropna()\n",
    "    covariance_matrix = returns.cov()\n",
    "\n",
    "    annual_returns = returns.mean() * 252\n",
    "    annual_cov = covariance_matrix * 252\n",
    "\n",
    "    # Numero de simulaciones de ponderaciones\n",
    "    num_portafolios = 10000\n",
    "\n",
    "    weights_array = np.zeros((num_portafolios, n_tickers_selected))\n",
    "    returns_array = np.zeros(num_portafolios)\n",
    "    risk_array = np.zeros(num_portafolios)\n",
    "    sharpe_array = np.zeros(num_portafolios)\n",
    "\n",
    "    for i in range(num_portafolios):\n",
    "        # generas los pesos aleatorios para cada portafolio\n",
    "        weights = np.random.random(n_tickers_selected)\n",
    "        weights = weights / np.sum(weights)\n",
    "\n",
    "        # obteniendo rendimiento y volatilidad esperada anual por portafolio\n",
    "        portfolio_return = np.dot(annual_returns, weights)\n",
    "        portfolio_risk = np.sqrt(np.dot(weights.T, np.dot(annual_cov, weights)))\n",
    "\n",
    "        # guardando historicos\n",
    "        weights_array[i, :] = weights\n",
    "        returns_array[i] = portfolio_return\n",
    "        risk_array[i] = portfolio_risk\n",
    "        sharpe_array[i] = (portfolio_return - rf) / portfolio_risk\n",
    "\n",
    "    portfolios = pd.DataFrame({\n",
    "        \"Returns\": returns_array,\n",
    "        \"Risk\": risk_array,\n",
    "        \"Sharpe\": sharpe_array\n",
    "    })\n",
    "\n",
    "    for i, symbol in enumerate(combination):\n",
    "        portfolios[symbol + \" Weight\"] = weights_array[:, i]\n",
    "\n",
    "    all_portfolios.append(portfolios)"
   ]
  },
  {
   "cell_type": "code",
   "execution_count": 5,
   "metadata": {},
   "outputs": [],
   "source": [
    "todo = pd.concat(all_portfolios)\n",
    "\n",
    "sorted_todo = todo.sort_values(\"Sharpe\", ascending=False)\n",
    "\n",
    "selected_rows = []\n",
    "used_tickers = set()\n",
    "for idx, row in sorted_todo.iterrows():\n",
    "    # extract tickers from non-NaN weight columns\n",
    "    row_tickers = [col.replace(\" Weight\", \"\") for col in todo.columns if col.endswith(\"Weight\") and pd.notna(row[col])]\n",
    "    if set(row_tickers) & used_tickers:\n",
    "        continue\n",
    "    selected_rows.append(row)\n",
    "    used_tickers.update(row_tickers)\n",
    "    if len(selected_rows) >= 10:\n",
    "        break\n",
    "\n",
    "top_10 = pd.DataFrame(selected_rows)\n",
    "# Rename weight columns to only show the ticker name\n",
    "top_10.rename(columns=lambda col: col.replace(\" Weight\", \"\") if col.endswith(\" Weight\") else col, inplace=True)"
   ]
  },
  {
   "cell_type": "code",
   "execution_count": 6,
   "metadata": {},
   "outputs": [],
   "source": [
    "sharpe_df = []\n",
    "for i in range(10):\n",
    "    clean_todo = top_10.iloc[i:i+1]\n",
    "    clean_todo = clean_todo.dropna(axis=1, how='all')\n",
    "    sharpe_df.append(clean_todo)"
   ]
  },
  {
   "cell_type": "code",
   "execution_count": 7,
   "metadata": {},
   "outputs": [],
   "source": [
    "def get_data(stocks, start_date, end_date):\n",
    "    prices = yf.download(stocks, start_date, end_date, progress = False)[\"Close\"]\n",
    "    returns = prices.pct_change().dropna()\n",
    "    mean_returns = returns.mean()\n",
    "    cov_returns = returns.cov()\n",
    "    return mean_returns, cov_returns, prices"
   ]
  },
  {
   "cell_type": "code",
   "execution_count": 8,
   "metadata": {},
   "outputs": [],
   "source": [
    "def simular_precios(mean_returns, cov_returns, prices, num_dias, stocks, weights):\n",
    "\n",
    "    N = 10000\n",
    "    portfolio_return = np.dot(weights, mean_returns)\n",
    "\n",
    "    portfolio_simulated_returns = np.zeros((num_dias, N)) # filas x columnas\n",
    "    mean_returns = np.full(shape = (num_dias, len(stocks)), fill_value=portfolio_return)\n",
    "\n",
    "    for m in range(N):\n",
    "        L = np.linalg.cholesky(cov_returns)\n",
    "        Z = np.random.normal(size=(num_dias, len(stocks))) # Matriz de n_dias (filas) y n_stocks (columnas)\n",
    "        daily_returns = mean_returns.T + np.dot(L, Z.T)\n",
    "        portfolio_simulated_returns [:, m] = np.cumprod(np.dot(weights, daily_returns) + 1)\n",
    "    \n",
    "    return portfolio_simulated_returns"
   ]
  },
  {
   "cell_type": "code",
   "execution_count": 9,
   "metadata": {},
   "outputs": [],
   "source": [
    "max_sharpe_list = [sharpe_df[i] for i in range(10)]"
   ]
  },
  {
   "cell_type": "code",
   "execution_count": 10,
   "metadata": {},
   "outputs": [],
   "source": [
    "start_date = dt.datetime(2022, 1, 1)\n",
    "end_date = dt.datetime(2025, 2, 24)\n",
    "stocks = max_sharpe_list[0].columns[3:-1].tolist()\n",
    "weights = max_sharpe_list[0].values[0][3:-1]\n",
    "num_dias = 14"
   ]
  },
  {
   "cell_type": "code",
   "execution_count": 11,
   "metadata": {},
   "outputs": [],
   "source": [
    "mean_returns, cov_returns, prices = get_data(stocks, start_date, end_date)\n",
    "portafolios_simulados = simular_precios(mean_returns, cov_returns, prices, num_dias, stocks, weights)"
   ]
  },
  {
   "cell_type": "code",
   "execution_count": 12,
   "metadata": {},
   "outputs": [],
   "source": [
    "var_list = []\n",
    "\n",
    "for i in range(len(max_sharpe_list)):\n",
    "    start_date = dt.datetime(2022, 1, 1)\n",
    "    end_date = dt.datetime(2025, 2, 24)\n",
    "    stocks = max_sharpe_list[i].columns[3:-1].tolist()\n",
    "    weights = max_sharpe_list[i].values[0][3:-1]\n",
    "    num_dias = 14\n",
    "\n",
    "    mean_returns, cov_returns, prices = get_data(stocks, start_date, end_date)\n",
    "    portafolios_simulados = simular_precios(mean_returns, cov_returns, prices, num_dias, stocks, weights)\n",
    "    var = np.percentile(portafolios_simulados[-1, :], 5) - 1\n",
    "    var_list.append(var)\n"
   ]
  },
  {
   "cell_type": "code",
   "execution_count": 13,
   "metadata": {},
   "outputs": [],
   "source": [
    "for i in range(len(max_sharpe_list)):\n",
    "    max_sharpe_list[i]['VaR'] = var_list[i]"
   ]
  },
  {
   "cell_type": "code",
   "execution_count": 14,
   "metadata": {},
   "outputs": [
    {
     "name": "stdout",
     "output_type": "stream",
     "text": [
      "Portafolio 1\n"
     ]
    },
    {
     "data": {
      "text/html": [
       "<div>\n",
       "<style scoped>\n",
       "    .dataframe tbody tr th:only-of-type {\n",
       "        vertical-align: middle;\n",
       "    }\n",
       "\n",
       "    .dataframe tbody tr th {\n",
       "        vertical-align: top;\n",
       "    }\n",
       "\n",
       "    .dataframe thead th {\n",
       "        text-align: right;\n",
       "    }\n",
       "</style>\n",
       "<table border=\"1\" class=\"dataframe\">\n",
       "  <thead>\n",
       "    <tr style=\"text-align: right;\">\n",
       "      <th></th>\n",
       "      <th>Returns</th>\n",
       "      <th>Risk</th>\n",
       "      <th>Sharpe</th>\n",
       "      <th>CAH</th>\n",
       "      <th>APA</th>\n",
       "      <th>AVGO</th>\n",
       "      <th>CPB</th>\n",
       "      <th>VaR</th>\n",
       "    </tr>\n",
       "  </thead>\n",
       "  <tbody>\n",
       "    <tr>\n",
       "      <th>8845</th>\n",
       "      <td>0.361596</td>\n",
       "      <td>0.203704</td>\n",
       "      <td>1.571377</td>\n",
       "      <td>0.039729</td>\n",
       "      <td>0.020384</td>\n",
       "      <td>0.26665</td>\n",
       "      <td>0.673237</td>\n",
       "      <td>-0.024559</td>\n",
       "    </tr>\n",
       "  </tbody>\n",
       "</table>\n",
       "</div>"
      ],
      "text/plain": [
       "       Returns      Risk    Sharpe       CAH       APA     AVGO       CPB  \\\n",
       "8845  0.361596  0.203704  1.571377  0.039729  0.020384  0.26665  0.673237   \n",
       "\n",
       "           VaR  \n",
       "8845 -0.024559  "
      ]
     },
     "metadata": {},
     "output_type": "display_data"
    },
    {
     "name": "stdout",
     "output_type": "stream",
     "text": [
      "Portafolio 2\n"
     ]
    },
    {
     "data": {
      "text/html": [
       "<div>\n",
       "<style scoped>\n",
       "    .dataframe tbody tr th:only-of-type {\n",
       "        vertical-align: middle;\n",
       "    }\n",
       "\n",
       "    .dataframe tbody tr th {\n",
       "        vertical-align: top;\n",
       "    }\n",
       "\n",
       "    .dataframe thead th {\n",
       "        text-align: right;\n",
       "    }\n",
       "</style>\n",
       "<table border=\"1\" class=\"dataframe\">\n",
       "  <thead>\n",
       "    <tr style=\"text-align: right;\">\n",
       "      <th></th>\n",
       "      <th>Returns</th>\n",
       "      <th>Risk</th>\n",
       "      <th>Sharpe</th>\n",
       "      <th>AJG</th>\n",
       "      <th>AEP</th>\n",
       "      <th>BSX</th>\n",
       "      <th>ABBV</th>\n",
       "      <th>VaR</th>\n",
       "    </tr>\n",
       "  </thead>\n",
       "  <tbody>\n",
       "    <tr>\n",
       "      <th>1025</th>\n",
       "      <td>0.266985</td>\n",
       "      <td>0.166492</td>\n",
       "      <td>1.354329</td>\n",
       "      <td>0.251499</td>\n",
       "      <td>0.00687</td>\n",
       "      <td>0.533818</td>\n",
       "      <td>0.207813</td>\n",
       "      <td>-0.045317</td>\n",
       "    </tr>\n",
       "  </tbody>\n",
       "</table>\n",
       "</div>"
      ],
      "text/plain": [
       "       Returns      Risk    Sharpe       AJG      AEP       BSX      ABBV  \\\n",
       "1025  0.266985  0.166492  1.354329  0.251499  0.00687  0.533818  0.207813   \n",
       "\n",
       "           VaR  \n",
       "1025 -0.045317  "
      ]
     },
     "metadata": {},
     "output_type": "display_data"
    },
    {
     "name": "stdout",
     "output_type": "stream",
     "text": [
      "Portafolio 3\n"
     ]
    },
    {
     "data": {
      "text/html": [
       "<div>\n",
       "<style scoped>\n",
       "    .dataframe tbody tr th:only-of-type {\n",
       "        vertical-align: middle;\n",
       "    }\n",
       "\n",
       "    .dataframe tbody tr th {\n",
       "        vertical-align: top;\n",
       "    }\n",
       "\n",
       "    .dataframe thead th {\n",
       "        text-align: right;\n",
       "    }\n",
       "</style>\n",
       "<table border=\"1\" class=\"dataframe\">\n",
       "  <thead>\n",
       "    <tr style=\"text-align: right;\">\n",
       "      <th></th>\n",
       "      <th>Returns</th>\n",
       "      <th>Risk</th>\n",
       "      <th>Sharpe</th>\n",
       "      <th>ANET</th>\n",
       "      <th>AFL</th>\n",
       "      <th>CPT</th>\n",
       "      <th>ALB</th>\n",
       "      <th>VaR</th>\n",
       "    </tr>\n",
       "  </thead>\n",
       "  <tbody>\n",
       "    <tr>\n",
       "      <th>3604</th>\n",
       "      <td>0.267636</td>\n",
       "      <td>0.206571</td>\n",
       "      <td>1.094712</td>\n",
       "      <td>0.223526</td>\n",
       "      <td>0.759901</td>\n",
       "      <td>0.016502</td>\n",
       "      <td>0.000071</td>\n",
       "      <td>-0.11097</td>\n",
       "    </tr>\n",
       "  </tbody>\n",
       "</table>\n",
       "</div>"
      ],
      "text/plain": [
       "       Returns      Risk    Sharpe      ANET       AFL       CPT       ALB  \\\n",
       "3604  0.267636  0.206571  1.094712  0.223526  0.759901  0.016502  0.000071   \n",
       "\n",
       "          VaR  \n",
       "3604 -0.11097  "
      ]
     },
     "metadata": {},
     "output_type": "display_data"
    },
    {
     "name": "stdout",
     "output_type": "stream",
     "text": [
      "Portafolio 4\n"
     ]
    },
    {
     "data": {
      "text/html": [
       "<div>\n",
       "<style scoped>\n",
       "    .dataframe tbody tr th:only-of-type {\n",
       "        vertical-align: middle;\n",
       "    }\n",
       "\n",
       "    .dataframe tbody tr th {\n",
       "        vertical-align: top;\n",
       "    }\n",
       "\n",
       "    .dataframe thead th {\n",
       "        text-align: right;\n",
       "    }\n",
       "</style>\n",
       "<table border=\"1\" class=\"dataframe\">\n",
       "  <thead>\n",
       "    <tr style=\"text-align: right;\">\n",
       "      <th></th>\n",
       "      <th>Returns</th>\n",
       "      <th>Risk</th>\n",
       "      <th>Sharpe</th>\n",
       "      <th>WRB</th>\n",
       "      <th>BKR</th>\n",
       "      <th>AMGN</th>\n",
       "      <th>A</th>\n",
       "      <th>VaR</th>\n",
       "    </tr>\n",
       "  </thead>\n",
       "  <tbody>\n",
       "    <tr>\n",
       "      <th>9897</th>\n",
       "      <td>0.214622</td>\n",
       "      <td>0.18335</td>\n",
       "      <td>0.944212</td>\n",
       "      <td>0.389726</td>\n",
       "      <td>0.304765</td>\n",
       "      <td>0.304629</td>\n",
       "      <td>0.00088</td>\n",
       "      <td>-0.05624</td>\n",
       "    </tr>\n",
       "  </tbody>\n",
       "</table>\n",
       "</div>"
      ],
      "text/plain": [
       "       Returns     Risk    Sharpe       WRB       BKR      AMGN        A  \\\n",
       "9897  0.214622  0.18335  0.944212  0.389726  0.304765  0.304629  0.00088   \n",
       "\n",
       "          VaR  \n",
       "9897 -0.05624  "
      ]
     },
     "metadata": {},
     "output_type": "display_data"
    },
    {
     "name": "stdout",
     "output_type": "stream",
     "text": [
      "Portafolio 5\n"
     ]
    },
    {
     "data": {
      "text/html": [
       "<div>\n",
       "<style scoped>\n",
       "    .dataframe tbody tr th:only-of-type {\n",
       "        vertical-align: middle;\n",
       "    }\n",
       "\n",
       "    .dataframe tbody tr th {\n",
       "        vertical-align: top;\n",
       "    }\n",
       "\n",
       "    .dataframe thead th {\n",
       "        text-align: right;\n",
       "    }\n",
       "</style>\n",
       "<table border=\"1\" class=\"dataframe\">\n",
       "  <thead>\n",
       "    <tr style=\"text-align: right;\">\n",
       "      <th></th>\n",
       "      <th>Returns</th>\n",
       "      <th>Risk</th>\n",
       "      <th>Sharpe</th>\n",
       "      <th>ACGL</th>\n",
       "      <th>AAPL</th>\n",
       "      <th>AES</th>\n",
       "      <th>BRO</th>\n",
       "      <th>VaR</th>\n",
       "    </tr>\n",
       "  </thead>\n",
       "  <tbody>\n",
       "    <tr>\n",
       "      <th>9217</th>\n",
       "      <td>0.240922</td>\n",
       "      <td>0.216965</td>\n",
       "      <td>0.919143</td>\n",
       "      <td>0.001115</td>\n",
       "      <td>0.703871</td>\n",
       "      <td>0.064183</td>\n",
       "      <td>0.230831</td>\n",
       "      <td>-0.062643</td>\n",
       "    </tr>\n",
       "  </tbody>\n",
       "</table>\n",
       "</div>"
      ],
      "text/plain": [
       "       Returns      Risk    Sharpe      ACGL      AAPL       AES       BRO  \\\n",
       "9217  0.240922  0.216965  0.919143  0.001115  0.703871  0.064183  0.230831   \n",
       "\n",
       "           VaR  \n",
       "9217 -0.062643  "
      ]
     },
     "metadata": {},
     "output_type": "display_data"
    },
    {
     "name": "stdout",
     "output_type": "stream",
     "text": [
      "Portafolio 6\n"
     ]
    },
    {
     "data": {
      "text/html": [
       "<div>\n",
       "<style scoped>\n",
       "    .dataframe tbody tr th:only-of-type {\n",
       "        vertical-align: middle;\n",
       "    }\n",
       "\n",
       "    .dataframe tbody tr th {\n",
       "        vertical-align: top;\n",
       "    }\n",
       "\n",
       "    .dataframe thead th {\n",
       "        text-align: right;\n",
       "    }\n",
       "</style>\n",
       "<table border=\"1\" class=\"dataframe\">\n",
       "  <thead>\n",
       "    <tr style=\"text-align: right;\">\n",
       "      <th></th>\n",
       "      <th>Returns</th>\n",
       "      <th>Risk</th>\n",
       "      <th>Sharpe</th>\n",
       "      <th>ATO</th>\n",
       "      <th>APTV</th>\n",
       "      <th>BXP</th>\n",
       "      <th>BKNG</th>\n",
       "      <th>VaR</th>\n",
       "    </tr>\n",
       "  </thead>\n",
       "  <tbody>\n",
       "    <tr>\n",
       "      <th>2366</th>\n",
       "      <td>0.204553</td>\n",
       "      <td>0.186091</td>\n",
       "      <td>0.876203</td>\n",
       "      <td>0.585424</td>\n",
       "      <td>0.004396</td>\n",
       "      <td>0.006031</td>\n",
       "      <td>0.404149</td>\n",
       "      <td>-0.093616</td>\n",
       "    </tr>\n",
       "  </tbody>\n",
       "</table>\n",
       "</div>"
      ],
      "text/plain": [
       "       Returns      Risk    Sharpe       ATO      APTV       BXP      BKNG  \\\n",
       "2366  0.204553  0.186091  0.876203  0.585424  0.004396  0.006031  0.404149   \n",
       "\n",
       "           VaR  \n",
       "2366 -0.093616  "
      ]
     },
     "metadata": {},
     "output_type": "display_data"
    },
    {
     "name": "stdout",
     "output_type": "stream",
     "text": [
      "Portafolio 7\n"
     ]
    },
    {
     "data": {
      "text/html": [
       "<div>\n",
       "<style scoped>\n",
       "    .dataframe tbody tr th:only-of-type {\n",
       "        vertical-align: middle;\n",
       "    }\n",
       "\n",
       "    .dataframe tbody tr th {\n",
       "        vertical-align: top;\n",
       "    }\n",
       "\n",
       "    .dataframe thead th {\n",
       "        text-align: right;\n",
       "    }\n",
       "</style>\n",
       "<table border=\"1\" class=\"dataframe\">\n",
       "  <thead>\n",
       "    <tr style=\"text-align: right;\">\n",
       "      <th></th>\n",
       "      <th>Returns</th>\n",
       "      <th>Risk</th>\n",
       "      <th>Sharpe</th>\n",
       "      <th>ANSS</th>\n",
       "      <th>BK</th>\n",
       "      <th>AVY</th>\n",
       "      <th>CBOE</th>\n",
       "      <th>VaR</th>\n",
       "    </tr>\n",
       "  </thead>\n",
       "  <tbody>\n",
       "    <tr>\n",
       "      <th>5954</th>\n",
       "      <td>0.1904</td>\n",
       "      <td>0.17703</td>\n",
       "      <td>0.841101</td>\n",
       "      <td>0.00549</td>\n",
       "      <td>0.370013</td>\n",
       "      <td>0.004553</td>\n",
       "      <td>0.619944</td>\n",
       "      <td>-0.035488</td>\n",
       "    </tr>\n",
       "  </tbody>\n",
       "</table>\n",
       "</div>"
      ],
      "text/plain": [
       "      Returns     Risk    Sharpe     ANSS        BK       AVY      CBOE  \\\n",
       "5954   0.1904  0.17703  0.841101  0.00549  0.370013  0.004553  0.619944   \n",
       "\n",
       "           VaR  \n",
       "5954 -0.035488  "
      ]
     },
     "metadata": {},
     "output_type": "display_data"
    },
    {
     "name": "stdout",
     "output_type": "stream",
     "text": [
      "Portafolio 8\n"
     ]
    },
    {
     "data": {
      "text/html": [
       "<div>\n",
       "<style scoped>\n",
       "    .dataframe tbody tr th:only-of-type {\n",
       "        vertical-align: middle;\n",
       "    }\n",
       "\n",
       "    .dataframe tbody tr th {\n",
       "        vertical-align: top;\n",
       "    }\n",
       "\n",
       "    .dataframe thead th {\n",
       "        text-align: right;\n",
       "    }\n",
       "</style>\n",
       "<table border=\"1\" class=\"dataframe\">\n",
       "  <thead>\n",
       "    <tr style=\"text-align: right;\">\n",
       "      <th></th>\n",
       "      <th>Returns</th>\n",
       "      <th>Risk</th>\n",
       "      <th>Sharpe</th>\n",
       "      <th>AZO</th>\n",
       "      <th>BAC</th>\n",
       "      <th>AXP</th>\n",
       "      <th>APH</th>\n",
       "      <th>VaR</th>\n",
       "    </tr>\n",
       "  </thead>\n",
       "  <tbody>\n",
       "    <tr>\n",
       "      <th>4672</th>\n",
       "      <td>0.206346</td>\n",
       "      <td>0.19805</td>\n",
       "      <td>0.832345</td>\n",
       "      <td>0.440608</td>\n",
       "      <td>0.002034</td>\n",
       "      <td>0.172983</td>\n",
       "      <td>0.384375</td>\n",
       "      <td>-0.058916</td>\n",
       "    </tr>\n",
       "  </tbody>\n",
       "</table>\n",
       "</div>"
      ],
      "text/plain": [
       "       Returns     Risk    Sharpe       AZO       BAC       AXP       APH  \\\n",
       "4672  0.206346  0.19805  0.832345  0.440608  0.002034  0.172983  0.384375   \n",
       "\n",
       "           VaR  \n",
       "4672 -0.058916  "
      ]
     },
     "metadata": {},
     "output_type": "display_data"
    },
    {
     "name": "stdout",
     "output_type": "stream",
     "text": [
      "Portafolio 9\n"
     ]
    },
    {
     "data": {
      "text/html": [
       "<div>\n",
       "<style scoped>\n",
       "    .dataframe tbody tr th:only-of-type {\n",
       "        vertical-align: middle;\n",
       "    }\n",
       "\n",
       "    .dataframe tbody tr th {\n",
       "        vertical-align: top;\n",
       "    }\n",
       "\n",
       "    .dataframe thead th {\n",
       "        text-align: right;\n",
       "    }\n",
       "</style>\n",
       "<table border=\"1\" class=\"dataframe\">\n",
       "  <thead>\n",
       "    <tr style=\"text-align: right;\">\n",
       "      <th></th>\n",
       "      <th>Returns</th>\n",
       "      <th>Risk</th>\n",
       "      <th>Sharpe</th>\n",
       "      <th>AAL</th>\n",
       "      <th>AMP</th>\n",
       "      <th>BIO</th>\n",
       "      <th>T</th>\n",
       "      <th>VaR</th>\n",
       "    </tr>\n",
       "  </thead>\n",
       "  <tbody>\n",
       "    <tr>\n",
       "      <th>8325</th>\n",
       "      <td>0.212184</td>\n",
       "      <td>0.207328</td>\n",
       "      <td>0.823256</td>\n",
       "      <td>0.010568</td>\n",
       "      <td>0.490619</td>\n",
       "      <td>0.490326</td>\n",
       "      <td>0.008487</td>\n",
       "      <td>-0.098881</td>\n",
       "    </tr>\n",
       "  </tbody>\n",
       "</table>\n",
       "</div>"
      ],
      "text/plain": [
       "       Returns      Risk    Sharpe       AAL       AMP       BIO         T  \\\n",
       "8325  0.212184  0.207328  0.823256  0.010568  0.490619  0.490326  0.008487   \n",
       "\n",
       "           VaR  \n",
       "8325 -0.098881  "
      ]
     },
     "metadata": {},
     "output_type": "display_data"
    },
    {
     "name": "stdout",
     "output_type": "stream",
     "text": [
      "Portafolio 10\n"
     ]
    },
    {
     "data": {
      "text/html": [
       "<div>\n",
       "<style scoped>\n",
       "    .dataframe tbody tr th:only-of-type {\n",
       "        vertical-align: middle;\n",
       "    }\n",
       "\n",
       "    .dataframe tbody tr th {\n",
       "        vertical-align: top;\n",
       "    }\n",
       "\n",
       "    .dataframe thead th {\n",
       "        text-align: right;\n",
       "    }\n",
       "</style>\n",
       "<table border=\"1\" class=\"dataframe\">\n",
       "  <thead>\n",
       "    <tr style=\"text-align: right;\">\n",
       "      <th></th>\n",
       "      <th>Returns</th>\n",
       "      <th>Risk</th>\n",
       "      <th>Sharpe</th>\n",
       "      <th>ADP</th>\n",
       "      <th>COF</th>\n",
       "      <th>AMD</th>\n",
       "      <th>CAT</th>\n",
       "      <th>VaR</th>\n",
       "    </tr>\n",
       "  </thead>\n",
       "  <tbody>\n",
       "    <tr>\n",
       "      <th>8379</th>\n",
       "      <td>0.19542</td>\n",
       "      <td>0.242962</td>\n",
       "      <td>0.633515</td>\n",
       "      <td>0.238172</td>\n",
       "      <td>0.703633</td>\n",
       "      <td>0.004782</td>\n",
       "      <td>0.053413</td>\n",
       "      <td>-0.138404</td>\n",
       "    </tr>\n",
       "  </tbody>\n",
       "</table>\n",
       "</div>"
      ],
      "text/plain": [
       "      Returns      Risk    Sharpe       ADP       COF       AMD       CAT  \\\n",
       "8379  0.19542  0.242962  0.633515  0.238172  0.703633  0.004782  0.053413   \n",
       "\n",
       "           VaR  \n",
       "8379 -0.138404  "
      ]
     },
     "metadata": {},
     "output_type": "display_data"
    }
   ],
   "source": [
    "for i in range(10):\n",
    "    print(f\"Portafolio {i+1}\")\n",
    "    display(max_sharpe_list[i])"
   ]
  }
 ],
 "metadata": {
  "kernelspec": {
   "display_name": "base",
   "language": "python",
   "name": "python3"
  },
  "language_info": {
   "codemirror_mode": {
    "name": "ipython",
    "version": 3
   },
   "file_extension": ".py",
   "mimetype": "text/x-python",
   "name": "python",
   "nbconvert_exporter": "python",
   "pygments_lexer": "ipython3",
   "version": "3.12.3"
  }
 },
 "nbformat": 4,
 "nbformat_minor": 2
}
