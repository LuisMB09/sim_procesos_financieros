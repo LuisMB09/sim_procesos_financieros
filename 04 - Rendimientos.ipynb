{
 "cells": [
  {
   "cell_type": "markdown",
   "metadata": {},
   "source": [
    "## Simular el rendimiento de un activo con Movimiento Browniano"
   ]
  },
  {
   "cell_type": "code",
   "execution_count": 1,
   "metadata": {},
   "outputs": [],
   "source": [
    "import numpy as np\n",
    "import pandas as pd\n",
    "import datetime as dt\n",
    "import yfinance as yf\n",
    "import matplotlib.pyplot as plt\n",
    "\n",
    "np.random.seed(123)"
   ]
  },
  {
   "cell_type": "code",
   "execution_count": 2,
   "metadata": {},
   "outputs": [],
   "source": [
    "stocks = ['MSFT']\n",
    "start_date = '2020-01-01'\n",
    "end_date = '2025-01-01'"
   ]
  },
  {
   "cell_type": "markdown",
   "metadata": {},
   "source": [
    "## Datos como función"
   ]
  },
  {
   "cell_type": "code",
   "execution_count": 3,
   "metadata": {},
   "outputs": [],
   "source": [
    "# Como función\n",
    "def get_data(stocks, start_date, end_date):\n",
    "    prices = yf.download(stocks, start_date, end_date, progress=False)['Adj Close']\n",
    "    returns = prices.pct_change().dropna()\n",
    "    mean_returns = returns.mean()\n",
    "    std_returns = returns.std()\n",
    "    return mean_returns, std_returns, prices.iloc[-1]\n",
    "\n",
    "mean_returns, std_returns, last_price = get_data(stocks, start_date, end_date)"
   ]
  },
  {
   "cell_type": "markdown",
   "metadata": {},
   "source": [
    "## Simular rendimientos como función"
   ]
  },
  {
   "cell_type": "code",
   "execution_count": 4,
   "metadata": {},
   "outputs": [],
   "source": [
    "def simular_precios(mean_returns, std_returns, last_price, num_dias):\n",
    "    Z = np.random.normal(0,1,num_dias)\n",
    "    simulated_returns = mean_returns + std_returns * Z\n",
    "    cumulative_simulated_returns = (1 + simulated_returns).cumprod()\n",
    "    simulated_prices = last_price * cumulative_simulated_returns\n",
    "    return simulated_prices"
   ]
  },
  {
   "cell_type": "code",
   "execution_count": 5,
   "metadata": {},
   "outputs": [
    {
     "data": {
      "text/plain": [
       "array([413.12533509, 421.44909781, 424.15659162, 412.30129324,\n",
       "       408.12553474, 421.4770816 , 402.2441511 , 399.32699078,\n",
       "       409.43327567, 403.0201093 ])"
      ]
     },
     "execution_count": 5,
     "metadata": {},
     "output_type": "execute_result"
    }
   ],
   "source": [
    "simulated_prices = simular_precios(mean_returns, std_returns, last_price, 10)\n",
    "simulated_prices"
   ]
  }
 ],
 "metadata": {
  "kernelspec": {
   "display_name": "base",
   "language": "python",
   "name": "python3"
  },
  "language_info": {
   "codemirror_mode": {
    "name": "ipython",
    "version": 3
   },
   "file_extension": ".py",
   "mimetype": "text/x-python",
   "name": "python",
   "nbconvert_exporter": "python",
   "pygments_lexer": "ipython3",
   "version": "3.12.3"
  }
 },
 "nbformat": 4,
 "nbformat_minor": 2
}
