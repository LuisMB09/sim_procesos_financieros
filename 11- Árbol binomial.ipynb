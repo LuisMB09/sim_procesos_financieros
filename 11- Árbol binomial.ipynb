{
 "cells": [
  {
   "cell_type": "code",
   "execution_count": 1,
   "id": "38fb1a30",
   "metadata": {},
   "outputs": [],
   "source": [
    "import numpy as np"
   ]
  },
  {
   "cell_type": "code",
   "execution_count": 2,
   "id": "330ccef9",
   "metadata": {},
   "outputs": [
    {
     "name": "stdout",
     "output_type": "stream",
     "text": [
      "u: 1.005247961787983\n",
      "d:  0.9947794355348418\n",
      "q:  0.5117778778051291\n",
      "El precio de la opción americana de compra es: 3.403358720\n",
      "u: 1.005247961787983\n",
      "d:  0.9947794355348418\n",
      "q:  0.5117778778051291\n",
      "El precio de la opción americana de venta es: 1.218766220\n"
     ]
    }
   ],
   "source": [
    "def binomial_tree_option(S, K, T, r, sigma, n, option_type):\n",
    "    # Paso 1: Calcular los factores de subida (u) y bajada (d)\n",
    "    # y la probabilidad (p)\n",
    "    dt = T/n  # dt es el tamaño del paso de tiempo\n",
    "    u = np.exp(sigma * np.sqrt(dt))\n",
    "    print('u:', u)\n",
    "    d = 1/u\n",
    "    print('d: ', d)\n",
    "    q = (np.exp(r * dt) - d) / (u - d)\n",
    "    print('q: ', q)\n",
    "\n",
    "    stock_tree = np.zeros((n+1, n+1))\n",
    "    option_tree = np.zeros((n+1, n+1))\n",
    "\n",
    "\n",
    "    for i in range(n+1):\n",
    "        for j in range(i+1):\n",
    "            stock_tree[j, i] = S * (u ** (i - j)) * (d ** j)\n",
    "\n",
    "    # Paso 3: Crear el árbol de valores de la opción\n",
    "\n",
    "    # Primero estima los valores intrínsecos al vencimiento\n",
    "    if option_type == 'call':\n",
    "        option_tree[:, n] = np.maximum(np.zeros(n+1), stock_tree[:, n] - K)\n",
    "    elif option_type == 'put':\n",
    "        option_tree[:, n] = np.maximum(np.zeros(n+1), K - stock_tree[:, n])\n",
    "\n",
    "    # Luego, Retroceder a través del árbol de opciones\n",
    "    for i in range(n-1, -1, -1):\n",
    "        for j in range(i+1):\n",
    "            option_tree[j, i] = np.exp(-r * dt) * (q * option_tree[j, i+1] + (1-q) * option_tree[j+1, i+1])\n",
    "\n",
    "            # Opción americana\n",
    "            if option_type == 'call':\n",
    "                option_tree[j, i] = np.maximum(option_tree[j, i], stock_tree[j, i] - K)\n",
    "            elif option_type == 'put':\n",
    "                option_tree[j, i] = np.maximum(option_tree[j, i], K - stock_tree[j, i])\n",
    "\n",
    "    #Regresa el valor estimado en la raíz, y los árboles generados\n",
    "    return option_tree[0, 0], stock_tree, option_tree\n",
    "\n",
    "# Parámetros de ejemplo\n",
    "S = 50      # Precio del activo subyacente\n",
    "K = 50      # Precio de ejercicio\n",
    "T = 1       # Tiempo hasta la expiración (años)\n",
    "r = 0.05    # Tasa de interés libre de riesgo (anual)\n",
    "sigma = 0.10    # Volatilidad (anual)\n",
    "n = 365      # Número de pasos en el árbol binomial\n",
    "\n",
    "# Calcular el precio de la opción americana de compra (call)\n",
    "call_option_price, stock_tree, option_tree = binomial_tree_option(S, K, T, r, sigma, n, option_type='call')\n",
    "print(f\"El precio de la opción americana de compra es: {call_option_price:.9f}\")\n",
    "\n",
    "\n",
    "# Calcular el precio de la opción americana de venta (put)\n",
    "put_option_price, stock_tree, option_tree = binomial_tree_option(S, K, T, r, sigma, n, option_type='put')\n",
    "print(f\"El precio de la opción americana de venta es: {put_option_price:.9f}\")"
   ]
  },
  {
   "cell_type": "code",
   "execution_count": 3,
   "id": "516bc5be",
   "metadata": {},
   "outputs": [],
   "source": [
    "def american_option_price(So, K, T, rf, sigma, n, option_type='call'):\n",
    "    dt = T / n\n",
    "    u = np.exp(sigma * np.sqrt(dt))\n",
    "    d = 1 / u\n",
    "    disc = np.exp(-rf * dt)\n",
    "    p = (np.exp(rf * dt) - d) / (u - d)\n",
    "    j = np.arange(n + 1)\n",
    "    ST = So * (u ** (n - j)) * (d ** j)\n",
    "\n",
    "    option_values = np.maximum(K - ST, 0.0) if option_type == 'put' else np.maximum(ST - K, 0.0)\n",
    "\n",
    "    for i in range(n - 1, -1, -1):\n",
    "        ST = ST[:-1] / u\n",
    "        option_values = disc * (p * option_values[:-1] + (1 - p) * option_values[1:])\n",
    "        exercise = np.maximum(K - ST, 0.0) if option_type == 'put' else np.maximum(ST - K, 0.0)\n",
    "        option_values = np.maximum(option_values, exercise)\n",
    "\n",
    "    return option_values[0]"
   ]
  },
  {
   "cell_type": "code",
   "execution_count": 4,
   "id": "5448c5c3",
   "metadata": {},
   "outputs": [
    {
     "name": "stdout",
     "output_type": "stream",
     "text": [
      "El precio de la opción americana de compra es: 3.403358720\n",
      "El precio de la opción americana de venta es: 1.218766220\n"
     ]
    }
   ],
   "source": [
    "So = 50\n",
    "K = 50\n",
    "T = 1\n",
    "rf = 0.05\n",
    "sigma = 0.10\n",
    "n = 365\n",
    "\n",
    "call_price = american_option_price(So, K, T, rf, sigma, n, option_type='call')\n",
    "put_price = american_option_price(So, K, T, rf, sigma, n, option_type='put')\n",
    "print(f\"El precio de la opción americana de compra es: {call_price:.9f}\")\n",
    "print(f\"El precio de la opción americana de venta es: {put_price:.9f}\")"
   ]
  }
 ],
 "metadata": {
  "kernelspec": {
   "display_name": "base",
   "language": "python",
   "name": "python3"
  },
  "language_info": {
   "codemirror_mode": {
    "name": "ipython",
    "version": 3
   },
   "file_extension": ".py",
   "mimetype": "text/x-python",
   "name": "python",
   "nbconvert_exporter": "python",
   "pygments_lexer": "ipython3",
   "version": "3.12.3"
  }
 },
 "nbformat": 4,
 "nbformat_minor": 5
}
