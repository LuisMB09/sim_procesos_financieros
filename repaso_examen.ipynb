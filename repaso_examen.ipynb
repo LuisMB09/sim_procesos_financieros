{
 "cells": [
  {
   "cell_type": "code",
   "execution_count": 1,
   "metadata": {},
   "outputs": [],
   "source": [
    "import numpy as np\n",
    "import pandas as pd\n",
    "import yfinance as yf\n",
    "import matplotlib.pyplot as plt"
   ]
  },
  {
   "cell_type": "code",
   "execution_count": 2,
   "metadata": {},
   "outputs": [],
   "source": [
    "def impares(lista):\n",
    "    impares = [i for i in lista if i % 2 != 0]\n",
    "    impares.sort(reverse=True)\n",
    "    return impares[0:5]"
   ]
  },
  {
   "cell_type": "code",
   "execution_count": 3,
   "metadata": {},
   "outputs": [
    {
     "name": "stdout",
     "output_type": "stream",
     "text": [
      "[158, 150, 26, 87, 197, 84, 134, 133, 45, 82, 26, 151, 130, 46, 45, 87, 114, 70, 4, 194, 106, 131, 156, 103, 8, 50, 80, 22, 19, 159, 160, 134, 152, 139, 91, 92, 172, 113, 177, 199, 168, 124, 66, 183, 56, 194, 127, 197, 129, 44]\n"
     ]
    }
   ],
   "source": [
    "lista_uniform = list(np.random.randint(1, 201, 50))\n",
    "print(lista_uniform)"
   ]
  },
  {
   "cell_type": "code",
   "execution_count": 4,
   "metadata": {},
   "outputs": [
    {
     "data": {
      "text/plain": [
       "[199, 197, 197, 183, 177]"
      ]
     },
     "execution_count": 4,
     "metadata": {},
     "output_type": "execute_result"
    }
   ],
   "source": [
    "impares(lista_uniform)"
   ]
  }
 ],
 "metadata": {
  "kernelspec": {
   "display_name": "base",
   "language": "python",
   "name": "python3"
  },
  "language_info": {
   "codemirror_mode": {
    "name": "ipython",
    "version": 3
   },
   "file_extension": ".py",
   "mimetype": "text/x-python",
   "name": "python",
   "nbconvert_exporter": "python",
   "pygments_lexer": "ipython3",
   "version": "3.12.3"
  }
 },
 "nbformat": 4,
 "nbformat_minor": 2
}
