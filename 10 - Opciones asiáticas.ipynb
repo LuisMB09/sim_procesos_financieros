{
 "cells": [
  {
   "cell_type": "code",
   "execution_count": 1,
   "id": "d94b21f3",
   "metadata": {},
   "outputs": [],
   "source": [
    "import numpy as np\n",
    "import pandas as pd\n",
    "import yfinance as yf\n",
    "import matplotlib.pyplot as plt"
   ]
  },
  {
   "cell_type": "code",
   "execution_count": 2,
   "id": "940df47e",
   "metadata": {},
   "outputs": [
    {
     "name": "stdout",
     "output_type": "stream",
     "text": [
      "YF.download() has changed argument auto_adjust default to True\n"
     ]
    }
   ],
   "source": [
    "ticker = 'CL=F'\n",
    "\n",
    "data = yf.download(ticker, start='2022-01-01', end='2025-04-07', progress=False)\n",
    "close_prices = data['Close']\n",
    "\n",
    "returns = close_prices.pct_change().dropna()\n",
    "sigma = (returns.std() * np.sqrt(252)).values"
   ]
  },
  {
   "cell_type": "code",
   "execution_count": 3,
   "id": "717342c7",
   "metadata": {},
   "outputs": [],
   "source": [
    "S0 = close_prices.iloc[-1].values\n",
    "T = 1\n",
    "num_steps = 252\n",
    "r = 0.0425\n",
    "n_sims = 10000"
   ]
  },
  {
   "cell_type": "code",
   "execution_count": 4,
   "id": "8b6c678b",
   "metadata": {},
   "outputs": [],
   "source": [
    "def simulate_prices(S0, r, sigma, T, num_steps, n_sims):\n",
    "    dt = T / num_steps\n",
    "    Z = np.random.normal(size=(n_sims, num_steps))\n",
    "    simulated_returns = (r - 0.5 * sigma**2) * dt + sigma * np.sqrt(dt) * Z\n",
    "\n",
    "    simulared_cumulative_returns = np.cumsum(simulated_returns, axis=1)\n",
    "    simulated_prices = S0 * np.exp(simulared_cumulative_returns)\n",
    "    return simulated_prices\n",
    "\n",
    "def price_aritmethic_average_price(simulated_prices, K, r, T, option_type: str):\n",
    "    avg_prices = np.mean(simulated_prices[:, 1:], axis=1)\n",
    "    return avg_prices"
   ]
  },
  {
   "cell_type": "code",
   "execution_count": 5,
   "id": "57dac5d1",
   "metadata": {},
   "outputs": [
    {
     "data": {
      "text/plain": [
       "array([[ 62.96594067,  62.49488005,  62.47862684, ..., 122.27180878,\n",
       "        122.85685836, 125.6180708 ],\n",
       "       [ 61.87242421,  63.24248209,  60.23891486, ...,  58.85842456,\n",
       "         59.93672317,  61.75275189],\n",
       "       [ 61.32767769,  63.97706475,  66.44373177, ..., 105.41558405,\n",
       "        108.71140944, 108.03611422],\n",
       "       ...,\n",
       "       [ 61.86549857,  63.91574473,  64.29637589, ...,  81.74760688,\n",
       "         84.22492294,  88.31645603],\n",
       "       [ 60.97701703,  57.57288447,  56.57261293, ...,  40.81345792,\n",
       "         42.74387511,  41.83034999],\n",
       "       [ 62.60671452,  61.51458972,  61.5840571 , ...,  70.88850652,\n",
       "         69.64091797,  68.80351298]])"
      ]
     },
     "execution_count": 5,
     "metadata": {},
     "output_type": "execute_result"
    }
   ],
   "source": [
    "simulate_prices(S0, r, sigma, T, num_steps, n_sims)"
   ]
  }
 ],
 "metadata": {
  "kernelspec": {
   "display_name": "base",
   "language": "python",
   "name": "python3"
  },
  "language_info": {
   "codemirror_mode": {
    "name": "ipython",
    "version": 3
   },
   "file_extension": ".py",
   "mimetype": "text/x-python",
   "name": "python",
   "nbconvert_exporter": "python",
   "pygments_lexer": "ipython3",
   "version": "3.12.3"
  }
 },
 "nbformat": 4,
 "nbformat_minor": 5
}
