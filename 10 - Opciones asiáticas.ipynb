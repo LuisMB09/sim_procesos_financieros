{
 "cells": [
  {
   "cell_type": "code",
   "execution_count": 2,
   "id": "d94b21f3",
   "metadata": {},
   "outputs": [],
   "source": [
    "import numpy as np\n",
    "import pandas as pd\n",
    "import yfinance as yf\n",
    "import matplotlib.pyplot as plt"
   ]
  },
  {
   "cell_type": "code",
   "execution_count": 38,
   "id": "940df47e",
   "metadata": {},
   "outputs": [],
   "source": [
    "ticker = 'CL=F'\n",
    "\n",
    "data = yf.download(ticker, start='2022-01-01', end='2025-04-07', progress=False)\n",
    "close_prices = data['Close']\n",
    "\n",
    "returns = close_prices.pct_change().dropna()\n",
    "sigma = (returns.std() * np.sqrt(252)).values"
   ]
  },
  {
   "cell_type": "code",
   "execution_count": 39,
   "id": "717342c7",
   "metadata": {},
   "outputs": [],
   "source": [
    "S0 = close_prices.iloc[-1].values\n",
    "T = 1\n",
    "num_steps = 252\n",
    "r = 0.0425\n",
    "n_sims = 10000"
   ]
  },
  {
   "cell_type": "code",
   "execution_count": 47,
   "id": "8b6c678b",
   "metadata": {},
   "outputs": [],
   "source": [
    "def simulate_prices(S0, r, sigma, T, num_steps, n_sims):\n",
    "    dt = T / num_steps\n",
    "    Z = np.random.normal(size=(n_sims, num_steps))\n",
    "    simulated_returns = (r - 0.5 * sigma**2) * dt + sigma * np.sqrt(dt) * Z\n",
    "\n",
    "    simulared_cumulative_returns = np.cumsum(simulated_returns, axis=1)\n",
    "    simulated_prices = S0 * np.exp(simulared_cumulative_returns)\n",
    "    return simulated_prices\n",
    "\n",
    "def price_aritmethic_average_price(simulated_prices, K, r, T, option_type: str):\n",
    "    avg_price = simulate_prices.mean(axis=0)[-1]\n",
    "    return avg_price"
   ]
  },
  {
   "cell_type": "code",
   "execution_count": 48,
   "id": "57dac5d1",
   "metadata": {},
   "outputs": [
    {
     "data": {
      "text/plain": [
       "array([[63.35794188, 61.31264982, 60.92522001, ..., 70.17470405,\n",
       "        68.47293597, 69.79584854],\n",
       "       [62.67132467, 64.76675974, 63.91223457, ..., 75.9006101 ,\n",
       "        75.88641795, 76.46716024],\n",
       "       [64.04439248, 62.63071865, 61.08031257, ..., 61.02635306,\n",
       "        62.07502055, 61.54990286],\n",
       "       ...,\n",
       "       [62.12683071, 59.99832599, 60.59502541, ..., 81.68506639,\n",
       "        82.27432734, 83.70985878],\n",
       "       [61.98796428, 63.5649556 , 63.56618313, ..., 90.27564065,\n",
       "        89.53779962, 87.67422302],\n",
       "       [60.76750584, 61.45043605, 61.59086882, ..., 42.07523067,\n",
       "        40.00279638, 40.3664748 ]])"
      ]
     },
     "execution_count": 48,
     "metadata": {},
     "output_type": "execute_result"
    }
   ],
   "source": [
    "simulate_prices(S0, r, sigma, T, num_steps, n_sims)"
   ]
  }
 ],
 "metadata": {
  "kernelspec": {
   "display_name": "base",
   "language": "python",
   "name": "python3"
  },
  "language_info": {
   "codemirror_mode": {
    "name": "ipython",
    "version": 3
   },
   "file_extension": ".py",
   "mimetype": "text/x-python",
   "name": "python",
   "nbconvert_exporter": "python",
   "pygments_lexer": "ipython3",
   "version": "3.12.3"
  }
 },
 "nbformat": 4,
 "nbformat_minor": 5
}
