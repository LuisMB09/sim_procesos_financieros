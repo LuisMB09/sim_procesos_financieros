{
  "nbformat": 4,
  "nbformat_minor": 0,
  "metadata": {
    "colab": {
      "provenance": []
    },
    "kernelspec": {
      "name": "python3",
      "display_name": "Python 3"
    },
    "language_info": {
      "name": "python"
    }
  },
  "cells": [
    {
      "cell_type": "markdown",
      "source": [
        "### Modelo de Geometric Brownian Motion\n",
        "\n",
        "La ecuación\n",
        "\n",
        "$$\\text{dailyReturns} = \\text{meanReturn} + \\sqrt{\\text{variance}} \\times Z $$\n",
        "\n",
        "es una representación simplificada de un modelo de rendimientos de activos financieros conocido como el modelo de movimiento geométrico browniano (Geometric Brownian Motion, GBM).\n",
        "\n",
        "Se utiliza comúnmente para modelar precios de activos en finanzas.\n",
        "\n",
        "Desglosemos cada componente:\n",
        "\n",
        "1. meanReturn ($\\mu$):\n",
        "    - Representa el rendimiento esperado o medio del activo. Es una constante que se suma a cada paso, lo que indica que en promedio, sin considerar el ruido aleatorio, este sería el rendimiento diario esperado del activo.\n",
        "\n",
        "2. **$\\sqrt{\\text{variance}}$ ($\\sigma$)**:\n",
        "    - Es la desviación estándar de los retornos del activo. En el contexto del GBM, representa la volatilidad del activo. La volatilidad es una medida de cuánto se espera que varíe el precio de un activo.\n",
        "\n",
        "3. $Z$:\n",
        "    - Es una variable aleatoria proveniente de una distribución normal estándar (con media 0 y desviación estándar 1). Representa el shock aleatorio o el ruido en el retorno diario del activo.\n",
        "\n",
        "La combinación de estos tres componentes produce un retorno diario que tiene una tendencia central dada por el rendimiento medio y una variabilidad dada por la volatilidad y el shock aleatorio.\n",
        "\n",
        "La estructura general de la ecuación se asemeja a una regresión lineal donde el término de la media representa la tendencia constante y el término con Z representa el error o residuo. Sin embargo, en este contexto, ese \"error\" es fundamental porque captura la naturaleza estocástica de los precios de las acciones.\n",
        "\n",
        "Esta ecuación modela los retornos diarios de un activo financiero de una manera que captura tanto la tendencia general (mediante el rendimiento medio) como la variabilidad inherente y la incertidumbre (mediante la volatilidad y el término aleatorio). Es una simplificación del comportamiento del mundo real, pero es comúnmente usada en finanzas por su flexibilidad y la capacidad de capturar características clave de los datos financieros.\n"
      ],
      "metadata": {
        "id": "fGBHqoefTYQv"
      }
    }
  ]
}