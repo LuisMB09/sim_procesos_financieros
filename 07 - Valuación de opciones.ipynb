{
 "cells": [
  {
   "cell_type": "code",
   "execution_count": 1,
   "metadata": {},
   "outputs": [],
   "source": [
    "import numpy as np\n",
    "import pandas as pd\n",
    "import yfinance as yf\n",
    "import matplotlib.pyplot as plt"
   ]
  },
  {
   "cell_type": "markdown",
   "metadata": {},
   "source": [
    "**En la teoría de opciones financieras, ¿qué diferencia una opción europea de una americana?**\n",
    "\n",
    "- La opción europea solo se puede ejercer en la fecha de vencimiento\n",
    "\n",
    "\n",
    "**¿Cuál es un ejemplo de una opción real en finanzas?**\n",
    "\n",
    "- La elección de una empresa para abrir una nueva planta\n",
    "\n",
    "**¿Qué es una 'opción call europea'?**\n",
    "\n",
    "- Una opción para comprar activos específicos en una fecha futura a un precio predeterminado\n",
    "\n",
    "**¿Qué es una opción 'put americana'?**\n",
    "\n",
    "- Una opción que se puede ejercer en cualquier momento antes del vencimiento para vender un activo a un precio predeterminado\n",
    "\n",
    "**En un árbol binario en el contexto de valuación de opciones, ¿cuál es el número máximo de nodos en el nivel n?**\n",
    "\n",
    "- n + 1 (respuesta profe) \n",
    "- $2^n$ (respuesta diego probablemente esté correcta)\n",
    "\n",
    "**¿Qué describe mejor una 'opción exótica' en finanzas?**\n",
    "\n",
    "- Una opción con características únicas o inusuales no estándar.\n",
    "\n",
    "**¿Cuál es un ejemplo de una opción de barrera 'up-and-in'?**\n",
    "\n",
    "- Una opción que se activa cuando el precio del activo subyacente supera un cierto nivel\n",
    "\n",
    "**El valor intrínseco de una opción nanciera jamás es negativo**\n",
    "\n",
    "- VERDADERO\n",
    "\n",
    "**En el contexto de las variables antitéticas, ¿cuál es el principal benecio de utilizar esta técnica en las simulaciones de Monte Carlo?**\n",
    "\n",
    "- Reducir la varianza de los estimadores\n",
    "\n",
    "**Describe una estrategia de opciones que podrías usar si esperas una alta volatilidad pero no estás seguro de la dirección del precio del activo subyacente.**\n",
    "\n",
    "- Comprar un straddle: adquirir una opción call y una opción put con el mismo precio de ejercicio y vencimiento\n",
    "\n",
    "**Una opción put europea tiene un precio de ejercicio de $40, y el activo subyacente cotiza a $35. Si el precio de la opción es $6, calcula su valor intrínseco y temporal.**\n",
    "\n",
    "- Valor intrínseco: $5, Valor temporal: $1."
   ]
  },
  {
   "cell_type": "code",
   "execution_count": 2,
   "metadata": {},
   "outputs": [
    {
     "name": "stdout",
     "output_type": "stream",
     "text": [
      "YF.download() has changed argument auto_adjust default to True\n"
     ]
    }
   ],
   "source": [
    "ticker = 'SPY'\n",
    "data = yf.download(ticker, start='2022-01-01', end='2025-03-15', progress=False)['Close']"
   ]
  },
  {
   "cell_type": "code",
   "execution_count": 3,
   "metadata": {},
   "outputs": [],
   "source": [
    "daily_returns = data.pct_change().dropna().values\n",
    "sigma = daily_returns.std() * np.sqrt(252)"
   ]
  },
  {
   "cell_type": "code",
   "execution_count": 4,
   "metadata": {},
   "outputs": [],
   "source": [
    "S0 = data.iloc[-1].values[0]  # Esto extrae el valor numérico\n",
    "r = 0.10 \n",
    "T = 100 / 365 \n",
    "\n",
    "num_simulations = 10000\n",
    "\n",
    "Z = np.random.normal(0, 1, num_simulations)\n",
    "St = S0 * np.exp( (r - 0.5 * sigma ** 2) * T + sigma * np.sqrt(T) * Z)"
   ]
  },
  {
   "cell_type": "code",
   "execution_count": 10,
   "metadata": {},
   "outputs": [],
   "source": [
    "r = 0.07\n",
    "sigma = 0.1\n",
    "K = 100\n",
    "S0 = 120\n",
    "\n",
    "T = 1\n",
    "\n",
    "num_simulations = 10000\n",
    "\n",
    "Z = np.random.normal(0, 1, (num_simulations, 252))\n",
    "St = S0 * np.exp( (r - 0.5 * sigma ** 2) * T + sigma * np.sqrt(T) * Z)"
   ]
  },
  {
   "cell_type": "code",
   "execution_count": 11,
   "metadata": {},
   "outputs": [
    {
     "data": {
      "text/plain": [
       "(26.772067563598995, 0.0194750721537919)"
      ]
     },
     "execution_count": 11,
     "metadata": {},
     "output_type": "execute_result"
    }
   ],
   "source": [
    "#K = 580\n",
    "\n",
    "call = np.maximum(St - K, 0)\n",
    "put = np.maximum(K - St, 0)\n",
    "\n",
    "call_value = np.exp(-r * T) * np.mean(call)\n",
    "put_value = np.exp(-r * T) * np.mean(put)\n",
    "\n",
    "call_value, put_value"
   ]
  }
 ],
 "metadata": {
  "kernelspec": {
   "display_name": "base",
   "language": "python",
   "name": "python3"
  },
  "language_info": {
   "codemirror_mode": {
    "name": "ipython",
    "version": 3
   },
   "file_extension": ".py",
   "mimetype": "text/x-python",
   "name": "python",
   "nbconvert_exporter": "python",
   "pygments_lexer": "ipython3",
   "version": "3.12.3"
  }
 },
 "nbformat": 4,
 "nbformat_minor": 2
}
