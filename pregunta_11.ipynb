{
 "cells": [
  {
   "cell_type": "code",
   "execution_count": 1,
   "metadata": {},
   "outputs": [],
   "source": [
    "import random\n",
    "import numpy as np\n",
    "import pandas as pd\n",
    "import matplotlib.pyplot as plt"
   ]
  },
  {
   "cell_type": "code",
   "execution_count": 2,
   "metadata": {},
   "outputs": [],
   "source": [
    "np.random.seed(42)"
   ]
  },
  {
   "cell_type": "code",
   "execution_count": 3,
   "metadata": {},
   "outputs": [],
   "source": [
    "dado1 = [1, 2, 3, 4, 5, 6]\n",
    "dado2 = [1, 2, 3, 4, 5, 6]\n",
    "sumas_100 = []\n",
    "sumas_1000 = []\n",
    "sumas_10000 = []\n",
    "\n",
    "for i in range(100):\n",
    "    pos1 = np.random.randint(0, 6)\n",
    "    pos2 = np.random.randint(0, 6)\n",
    "    suma = dado1[pos1] + dado2[pos2]\n",
    "    sumas_100.append(suma)\n",
    "\n",
    "for i in range(1000):\n",
    "    pos1 = np.random.randint(0, 6)\n",
    "    pos2 = np.random.randint(0, 6)\n",
    "    suma = dado1[pos1] + dado2[pos2]\n",
    "    sumas_1000.append(suma)\n",
    "\n",
    "for i in range(10000):\n",
    "    pos1 = np.random.randint(0, 6)\n",
    "    pos2 = np.random.randint(0, 6)\n",
    "    suma = dado1[pos1] + dado2[pos2]\n",
    "    sumas_10000.append(suma)"
   ]
  },
  {
   "cell_type": "markdown",
   "metadata": {},
   "source": [
    "¿Cuál es la probabilidad que estimaste con montecarlo de que la suma de dos dados arroje 11? \n",
    "\n",
    "¿Cómo se compara la probabilidad estimada empíricamente con la probabilidad teórica? - 10 Puntos"
   ]
  },
  {
   "cell_type": "code",
   "execution_count": 4,
   "metadata": {},
   "outputs": [
    {
     "name": "stdout",
     "output_type": "stream",
     "text": [
      "La probabilidad teórica de sumar 11 es: 0.05555555555555555\n",
      "\n",
      "La prbabilidad de sumar con 100 lanzamientos es: 0.09\n",
      "La prbabilidad de sumar con 1000 lanzamientos es: 0.005\n",
      "La prbabilidad de sumar con 10000 lanzamientos es: 0.001\n"
     ]
    }
   ],
   "source": [
    "prob_100 = sumas_100[sumas_100 == 11] / len(sumas_100)\n",
    "prob_1000 = sumas_1000[sumas_1000 == 11] / len(sumas_1000)\n",
    "prob_10000 = sumas_10000[sumas_10000 == 11] / len(sumas_10000)\n",
    "\n",
    "print(f'La probabilidad teórica de sumar 11 es: {2/36}')\n",
    "print()\n",
    "print(f'La prbabilidad de sumar con 100 lanzamientos es: {prob_100}')\n",
    "print(f'La prbabilidad de sumar con 1000 lanzamientos es: {prob_1000}')\n",
    "print(f'La prbabilidad de sumar con 10000 lanzamientos es: {prob_10000}')"
   ]
  }
 ],
 "metadata": {
  "kernelspec": {
   "display_name": "base",
   "language": "python",
   "name": "python3"
  },
  "language_info": {
   "codemirror_mode": {
    "name": "ipython",
    "version": 3
   },
   "file_extension": ".py",
   "mimetype": "text/x-python",
   "name": "python",
   "nbconvert_exporter": "python",
   "pygments_lexer": "ipython3",
   "version": "3.12.3"
  }
 },
 "nbformat": 4,
 "nbformat_minor": 2
}
