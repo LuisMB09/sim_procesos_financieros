{
 "cells": [
  {
   "cell_type": "code",
   "execution_count": 1,
   "metadata": {},
   "outputs": [],
   "source": [
    "import numpy as np\n",
    "import pandas as pd\n",
    "import yfinance as yf"
   ]
  },
  {
   "cell_type": "code",
   "execution_count": 2,
   "metadata": {},
   "outputs": [],
   "source": [
    "def price_barrier_option(option_type, ticker, K, barrier_price):\n",
    "    # Descargar precios históricos\n",
    "    data = yf.download(ticker, start='2022-01-01', end='2025-03-15', progress=False)['Close']['SPY']\n",
    "    daily_returns = data.pct_change().dropna()\n",
    "\n",
    "    # Parámetros\n",
    "    S0 = float(data.iloc[-1])\n",
    "    sigma = daily_returns.std() * np.sqrt(252)\n",
    "    r = 0.10\n",
    "    T_days = 252\n",
    "    T = 1  # años\n",
    "    dt = T / T_days\n",
    "    num_simulations = 10000\n",
    "    Z = np.random.normal(0, 1, (num_simulations, T_days))\n",
    "\n",
    "    returns = (r - 0.5 * sigma**2) * dt  +  sigma * np.sqrt(dt) * Z\n",
    "    prices = S0 * np.cumprod(1 + returns, axis=1)\n",
    "\n",
    "    ST = prices[:, -1]\n",
    "\n",
    "    barrier_breached = np.any(prices >= barrier_price, axis=1)\n",
    "\n",
    "    if option_type == 'call':\n",
    "\n",
    "        payoff_barrier = np.where(~barrier_breached, np.maximum(ST - K, 0), 0 )\n",
    "\n",
    "        # Payoff opcion sin barrera\n",
    "        payoff_plain = np.maximum(ST - K, 0)\n",
    "\n",
    "    elif option_type == 'put':\n",
    "\n",
    "        payoff_barrier = np.where(~barrier_breached, np.maximum(K - ST, 0), 0 )\n",
    "        # Payoff opcion sin barrera\n",
    "        payoff_plain = np.maximum(K - ST, 0)\n",
    "\n",
    "    price_barrier = np.exp(-r * T) * np.mean(payoff_barrier)\n",
    "    price_plain = np.exp(-r * T) * np.mean(payoff_plain)\n",
    "    price_difference = price_plain - price_barrier\n",
    "\n",
    "    return {\n",
    "        'S0': S0,\n",
    "        'price_plain': price_plain,\n",
    "        'price_barrier': price_barrier,\n",
    "        'price_difference': price_difference\n",
    "        }"
   ]
  },
  {
   "cell_type": "code",
   "execution_count": 3,
   "metadata": {},
   "outputs": [
    {
     "name": "stdout",
     "output_type": "stream",
     "text": [
      "YF.download() has changed argument auto_adjust default to True\n"
     ]
    },
    {
     "data": {
      "text/plain": [
       "{'S0': 561.1220092773438,\n",
       " 'price_plain': 42.66311675506483,\n",
       " 'price_barrier': 34.43173436300522,\n",
       " 'price_difference': 8.231382392059608}"
      ]
     },
     "execution_count": 3,
     "metadata": {},
     "output_type": "execute_result"
    }
   ],
   "source": [
    "price_barrier_option( 'put', 'SPY', 620, 630)"
   ]
  }
 ],
 "metadata": {
  "kernelspec": {
   "display_name": "base",
   "language": "python",
   "name": "python3"
  },
  "language_info": {
   "codemirror_mode": {
    "name": "ipython",
    "version": 3
   },
   "file_extension": ".py",
   "mimetype": "text/x-python",
   "name": "python",
   "nbconvert_exporter": "python",
   "pygments_lexer": "ipython3",
   "version": "3.12.3"
  }
 },
 "nbformat": 4,
 "nbformat_minor": 2
}
