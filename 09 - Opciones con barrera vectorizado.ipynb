{
 "cells": [
  {
   "cell_type": "code",
   "execution_count": 3,
   "metadata": {},
   "outputs": [],
   "source": [
    "import numpy as np\n",
    "import pandas as pd\n",
    "import yfinance as yf"
   ]
  },
  {
   "cell_type": "code",
   "execution_count": 52,
   "metadata": {},
   "outputs": [],
   "source": [
    "def price_barrier_option(option_type, ticker, K, barrier_price):\n",
    "    # Descargar precios históricos\n",
    "    data = yf.download(ticker, start='2022-01-01', end='2025-03-15', progress=False)['Close']['SPY']\n",
    "    daily_returns = data.pct_change().dropna()\n",
    "\n",
    "    # Parámetros\n",
    "    S0 = float(data.iloc[-1])\n",
    "    sigma = daily_returns.std() * np.sqrt(252)\n",
    "    r = 0.10\n",
    "    T_days = 252\n",
    "    T = 1  # años\n",
    "    dt = T / T_days\n",
    "    num_simulations = 10000\n",
    "\n",
    "    Z = np.random.normal(0, 1, (num_simulations, T_days))\n",
    "    returns = (r - 0.5 * sigma**2) * dt  +  sigma * np.sqrt(dt) * Z\n",
    "    prices = S0 * np.cumprod(1 + returns, axis=1)"
   ]
  },
  {
   "cell_type": "code",
   "execution_count": 54,
   "metadata": {},
   "outputs": [],
   "source": [
    "price_barrier_option( 'put', 'SPY', 620, 630)"
   ]
  }
 ],
 "metadata": {
  "kernelspec": {
   "display_name": "base",
   "language": "python",
   "name": "python3"
  },
  "language_info": {
   "codemirror_mode": {
    "name": "ipython",
    "version": 3
   },
   "file_extension": ".py",
   "mimetype": "text/x-python",
   "name": "python",
   "nbconvert_exporter": "python",
   "pygments_lexer": "ipython3",
   "version": "3.12.3"
  }
 },
 "nbformat": 4,
 "nbformat_minor": 2
}
