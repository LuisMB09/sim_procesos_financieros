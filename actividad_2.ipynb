{
 "cells": [
  {
   "cell_type": "markdown",
   "metadata": {
    "vscode": {
     "languageId": "plaintext"
    }
   },
   "source": [
    "## Actividad en clase\n",
    "- Imagina un círculo inscrito en un cuadrado. El círculo tiene un radio 1 y el cuadrado lado de longitud 2.\n",
    "- Si eliges un punto al azar dentro del cuadrado, la probabilidad de que caiga dentro del círculo es proporcional al área del círculo dividido por el área del cuadrado.\n",
    "- El área del círculo de radio 1 es pi x radio al cuadrado = pi y el área del cuadrado es 4. **Por lo tanto, la proporción de puntos que caen dentro del círculo en relación con el total de puntos dentro del cuadrado se aproxima a pi/4**.\n",
    "\n",
    "### Simulación\n",
    "\n",
    "- Utilizando Python, genera una serie de puntos aleatorios dentro del cuadrado de lado 2.\n",
    "- Cuenta cuántos de estos puntos caen dentro del círculo inscrito.\n",
    "- Utiliza la proporción de puntos que caen dentro del círculo con respecto al total de puntos para estimar pi.\n",
    "\n",
    "### A entregar\n",
    "\n",
    "- Usando Matplotlib, visualiza el cuadrado, el círculo y todos los puntos aleatorios que generaste.\n",
    "- Realiza la simulación con diferentes cantidades de puntos, N (por ejemplo, 10, 100, 1000, 10000, 100000). Muestra tus estimaciones de pi para cada caso y observa cómo la precisión cambia a medida que aumenta N."
   ]
  },
  {
   "cell_type": "code",
   "execution_count": null,
   "metadata": {
    "vscode": {
     "languageId": "plaintext"
    }
   },
   "outputs": [],
   "source": []
  },
  {
   "cell_type": "code",
   "execution_count": null,
   "metadata": {
    "vscode": {
     "languageId": "plaintext"
    }
   },
   "outputs": [],
   "source": []
  }
 ],
 "metadata": {
  "language_info": {
   "name": "python"
  }
 },
 "nbformat": 4,
 "nbformat_minor": 2
}
