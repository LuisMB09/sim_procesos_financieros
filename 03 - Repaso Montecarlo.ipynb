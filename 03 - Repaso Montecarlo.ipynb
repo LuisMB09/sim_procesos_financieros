{
 "cells": [
  {
   "cell_type": "markdown",
   "metadata": {
    "vscode": {
     "languageId": "plaintext"
    }
   },
   "source": [
    "## Simulación de Montecarlo"
   ]
  },
  {
   "cell_type": "markdown",
   "metadata": {},
   "source": [
    "- Aplicar simulación de Montecarlo a procesos matemáticos.\n",
    "\n",
    "El método tiene 4 pasos:\n",
    "\n",
    "- Definir un dominio de posibles entradas de la variable aleatoria.\n",
    "- Generar muestreos aleatorios a partir de una distribución de probabilidad.\n",
    "- Realizar cálculo determinista a partir de las muestras aleatorias.\n",
    "- Agregas los resultados para llegar a una estimación puntual."
   ]
  },
  {
   "cell_type": "code",
   "execution_count": 18,
   "metadata": {},
   "outputs": [],
   "source": [
    "import numpy as np\n",
    "import matplotlib.pyplot as plt"
   ]
  },
  {
   "cell_type": "code",
   "execution_count": 19,
   "metadata": {},
   "outputs": [],
   "source": [
    "def calcular_integral(x):\n",
    "    return x**2\n",
    "\n",
    "a = 2\n",
    "b = 5\n",
    "\n",
    "N = 1000000\n",
    "\n",
    "x = np.random.uniform(a, b, N)\n",
    "y = np.random.uniform(0, calcular_integral(b), N)"
   ]
  },
  {
   "cell_type": "code",
   "execution_count": 20,
   "metadata": {},
   "outputs": [
    {
     "data": {
      "text/plain": [
       "array([2.47329199, 2.69286324, 2.46315429, ..., 3.7777146 , 4.46423122,\n",
       "       2.17258458])"
      ]
     },
     "execution_count": 20,
     "metadata": {},
     "output_type": "execute_result"
    }
   ],
   "source": [
    "x"
   ]
  },
  {
   "cell_type": "code",
   "execution_count": 21,
   "metadata": {},
   "outputs": [
    {
     "data": {
      "text/plain": [
       "array([12.50434581, 17.0818276 , 19.07803907, ...,  5.63128606,\n",
       "       10.52996033,  2.37023984])"
      ]
     },
     "execution_count": 21,
     "metadata": {},
     "output_type": "execute_result"
    }
   ],
   "source": [
    "y"
   ]
  },
  {
   "cell_type": "code",
   "execution_count": 22,
   "metadata": {},
   "outputs": [
    {
     "data": {
      "text/plain": [
       "520647"
      ]
     },
     "execution_count": 22,
     "metadata": {},
     "output_type": "execute_result"
    }
   ],
   "source": [
    "n_bajo_curva = np.sum(y < calcular_integral(x))\n",
    "n_bajo_curva"
   ]
  },
  {
   "cell_type": "code",
   "execution_count": 23,
   "metadata": {},
   "outputs": [
    {
     "data": {
      "text/plain": [
       "39.048525"
      ]
     },
     "execution_count": 23,
     "metadata": {},
     "output_type": "execute_result"
    }
   ],
   "source": [
    "respuesta_integral = (b-a) * calcular_integral(b) * n_bajo_curva / N\n",
    "respuesta_integral"
   ]
  }
 ],
 "metadata": {
  "kernelspec": {
   "display_name": "base",
   "language": "python",
   "name": "python3"
  },
  "language_info": {
   "codemirror_mode": {
    "name": "ipython",
    "version": 3
   },
   "file_extension": ".py",
   "mimetype": "text/x-python",
   "name": "python",
   "nbconvert_exporter": "python",
   "pygments_lexer": "ipython3",
   "version": "3.12.3"
  }
 },
 "nbformat": 4,
 "nbformat_minor": 2
}
