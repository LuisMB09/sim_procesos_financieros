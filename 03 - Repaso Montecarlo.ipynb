{
 "cells": [
  {
   "cell_type": "markdown",
   "metadata": {
    "vscode": {
     "languageId": "plaintext"
    }
   },
   "source": [
    "## Simulación de Montecarlo"
   ]
  },
  {
   "cell_type": "markdown",
   "metadata": {},
   "source": [
    "- Aplicar simulación de Montecarlo a procesos matemáticos.\n",
    "\n",
    "El método tiene 4 pasos:\n",
    "\n",
    "- Definir un dominio de posibles entradas de la variable aleatoria.\n",
    "- Generar muestreos aleatorios a partir de una distribución de probabilidad.\n",
    "- Realizar cálculo determinista a partir de las muestras aleatorias.\n",
    "- Agregas los resultados para llegar a una estimación puntual."
   ]
  },
  {
   "cell_type": "code",
   "execution_count": 25,
   "metadata": {},
   "outputs": [],
   "source": [
    "import numpy as np\n",
    "import matplotlib.pyplot as plt"
   ]
  },
  {
   "cell_type": "code",
   "execution_count": 26,
   "metadata": {},
   "outputs": [],
   "source": [
    "a = 2\n",
    "b = 5\n",
    "\n",
    "N = 1000000"
   ]
  },
  {
   "cell_type": "code",
   "execution_count": 30,
   "metadata": {},
   "outputs": [
    {
     "data": {
      "text/plain": [
       "39.060675"
      ]
     },
     "execution_count": 30,
     "metadata": {},
     "output_type": "execute_result"
    }
   ],
   "source": [
    "def funcion_a_integrar(x):\n",
    "    return x**2\n",
    "\n",
    "def integral_definida(a,b,N):\n",
    "    x = np.random.uniform(a, b, N)\n",
    "    y = np.random.uniform(0, funcion_a_integrar(b), N)\n",
    "    n_bajo_curva = np.sum(y < funcion_a_integrar(x))\n",
    "    respuesta_integral = (b-a) * funcion_a_integrar(b) * n_bajo_curva / N\n",
    "    return respuesta_integral\n",
    "\n",
    "integral_definida(2,5,1000000)\n"
   ]
  }
 ],
 "metadata": {
  "kernelspec": {
   "display_name": "base",
   "language": "python",
   "name": "python3"
  },
  "language_info": {
   "codemirror_mode": {
    "name": "ipython",
    "version": 3
   },
   "file_extension": ".py",
   "mimetype": "text/x-python",
   "name": "python",
   "nbconvert_exporter": "python",
   "pygments_lexer": "ipython3",
   "version": "3.12.3"
  }
 },
 "nbformat": 4,
 "nbformat_minor": 2
}
