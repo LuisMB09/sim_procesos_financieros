{
 "cells": [
  {
   "cell_type": "code",
   "execution_count": 1,
   "metadata": {},
   "outputs": [],
   "source": [
    "import numpy as np\n",
    "import pandas as pd\n",
    "import yfinance as yf\n",
    "import matplotlib.pyplot as plt"
   ]
  },
  {
   "cell_type": "code",
   "execution_count": 2,
   "metadata": {},
   "outputs": [
    {
     "name": "stdout",
     "output_type": "stream",
     "text": [
      "YF.download() has changed argument auto_adjust default to True\n"
     ]
    }
   ],
   "source": [
    "ticker = 'SPY'\n",
    "data = yf.download(ticker, start='2022-01-01', end='2025-03-15', progress=False)['Close']['SPY']"
   ]
  },
  {
   "cell_type": "code",
   "execution_count": 3,
   "metadata": {},
   "outputs": [],
   "source": [
    "daily_returns = data.pct_change().dropna()\n",
    "sigma = daily_returns.std() * np.sqrt(252)"
   ]
  },
  {
   "cell_type": "code",
   "execution_count": 11,
   "metadata": {},
   "outputs": [],
   "source": [
    "S0 = data.iloc[-1]\n",
    "r = 0.05 \n",
    "# Días al vencimiento\n",
    "T = 252\n",
    "dt = 1 / T\n",
    "\n",
    "num_simulations = 10000\n",
    "\n",
    "Z = np.random.normal(0, 1, (num_simulations, T))\n",
    "\n",
    "# Matriz de precios simulados del subyacente\n",
    "# N filas x Pasos + 1 por S0\n",
    "price_matrix = np.zeros((num_simulations, T+1))"
   ]
  },
  {
   "cell_type": "code",
   "execution_count": 12,
   "metadata": {},
   "outputs": [],
   "source": [
    "barrier_price = S0\n",
    "\n",
    "for i in range(num_simulations):\n",
    "    price_path = [S0]\n",
    "    barrier_breached = False\n",
    "\n",
    "    for dia in range(1, T+1):\n",
    "        St = price_path[-1] * np.exp((r - 0.5 * sigma**2) * dt + sigma * np.sqrt(dt) * Z[i, dia-1])\n",
    "        price_path.append(St)\n",
    "\n",
    "        if St > barrier_price:\n",
    "            barrier_breached = True\n",
    "            break\n",
    "\n",
    "        if not barrier_breached:\n",
    "            price_matrix[i, :] = 0\n",
    "        \n",
    "        else:\n",
    "            price_matrix[i, :] = price_path"
   ]
  }
 ],
 "metadata": {
  "kernelspec": {
   "display_name": "base",
   "language": "python",
   "name": "python3"
  },
  "language_info": {
   "codemirror_mode": {
    "name": "ipython",
    "version": 3
   },
   "file_extension": ".py",
   "mimetype": "text/x-python",
   "name": "python",
   "nbconvert_exporter": "python",
   "pygments_lexer": "ipython3",
   "version": "3.12.3"
  }
 },
 "nbformat": 4,
 "nbformat_minor": 2
}
