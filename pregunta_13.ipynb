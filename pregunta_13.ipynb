{
 "cells": [
  {
   "cell_type": "code",
   "execution_count": 2,
   "metadata": {},
   "outputs": [],
   "source": [
    "import numpy as np\n",
    "import pandas as pd\n",
    "import yfinance as yf\n",
    "import matplotlib.pyplot as plt"
   ]
  },
  {
   "cell_type": "markdown",
   "metadata": {},
   "source": [
    "Dados los precios históricos de cierre ajustado de Master Card (NYSE: MA) y Pepsi (NYSE:PEP) de los últimos 3 años, imagina un portafolio a 50% y 50% de ambas acciones, con un valor inicial de 10,000 dolares.\n",
    "\n",
    "a. Calcula los rendimientos medios diarios por acción e interprétalos 5pt.\n",
    "\n",
    "b. Calcula la matriz de covarianza de los rendimientos e interprétala 5 pt.\n",
    "\n",
    "c. Estima mil escenarios del valor final del portafolio 30 días después y obtén los valores del portafolio en el peor y en el mejor resultado de tu simulación. 5 pt.\n",
    "\n",
    "d. Estima el Value at Risk (VaR) a 30 días al 1% para el portafolio especificado e interpreta el VaR resultante. 10 pt\n",
    "\n",
    "e. Haz un histograma con los 1000 valores finales del portafolio (los 1000 valores en el día 30). 10 pts.\n",
    "\n",
    "Carga el código utilizado con las preguntas contestadas"
   ]
  },
  {
   "cell_type": "code",
   "execution_count": null,
   "metadata": {},
   "outputs": [],
   "source": []
  },
  {
   "cell_type": "code",
   "execution_count": null,
   "metadata": {},
   "outputs": [],
   "source": []
  }
 ],
 "metadata": {
  "kernelspec": {
   "display_name": "base",
   "language": "python",
   "name": "python3"
  },
  "language_info": {
   "codemirror_mode": {
    "name": "ipython",
    "version": 3
   },
   "file_extension": ".py",
   "mimetype": "text/x-python",
   "name": "python",
   "nbconvert_exporter": "python",
   "pygments_lexer": "ipython3",
   "version": "3.12.3"
  }
 },
 "nbformat": 4,
 "nbformat_minor": 2
}
