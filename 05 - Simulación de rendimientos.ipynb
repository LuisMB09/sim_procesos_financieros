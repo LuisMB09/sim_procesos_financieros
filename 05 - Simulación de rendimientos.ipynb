{
 "cells": [
  {
   "cell_type": "code",
   "execution_count": 1,
   "metadata": {},
   "outputs": [],
   "source": [
    "import numpy as np\n",
    "import pandas as pd\n",
    "import datetime as dt\n",
    "import yfinance as yf\n",
    "import matplotlib.pyplot as plt\n",
    "\n",
    "np.random.seed(123)"
   ]
  },
  {
   "cell_type": "markdown",
   "metadata": {},
   "source": [
    "## Simulación del rendimiento de un portafolio con Moviemiento browniano"
   ]
  },
  {
   "cell_type": "code",
   "execution_count": 2,
   "metadata": {},
   "outputs": [],
   "source": [
    "def get_data(stocks, start_date, end_date):\n",
    "    prices = yf.download(stocks, start_date, end_date, progress = False)[\"Close\"]\n",
    "    returns = prices.pct_change().dropna()\n",
    "    mean_returns = returns.mean()\n",
    "    cov_returns = returns.cov()\n",
    "    return mean_returns, cov_returns, prices"
   ]
  },
  {
   "cell_type": "code",
   "execution_count": 3,
   "metadata": {},
   "outputs": [],
   "source": [
    "def simular_precios(mean_returns, std_returns, prices, num_dias):\n",
    "    Z = np.random.normal(0, 1, num_dias)\n",
    "    simulated_returns = np.array(mean_returns) + np.array(std_returns) * Z\n",
    "    cumulative_simulated_returns =  (1 + simulated_returns).cumprod()\n",
    "    initial_price = np.array(prices.iloc[-1])\n",
    "    simulated_prices = initial_price * cumulative_simulated_returns\n",
    "    return simulated_prices"
   ]
  },
  {
   "cell_type": "code",
   "execution_count": 4,
   "metadata": {},
   "outputs": [],
   "source": [
    "stocks = ['AAPL','MSFT','TSLA']\n",
    "start_date = '2020-01-01'\n",
    "end_date = '2025-01-12'\n",
    "num_dias = 14\n",
    "N = 10"
   ]
  },
  {
   "cell_type": "code",
   "execution_count": 5,
   "metadata": {},
   "outputs": [],
   "source": [
    "mean_returns, cov_returns, prices = get_data(stocks, start_date, end_date)"
   ]
  }
 ],
 "metadata": {
  "kernelspec": {
   "display_name": "base",
   "language": "python",
   "name": "python3"
  },
  "language_info": {
   "codemirror_mode": {
    "name": "ipython",
    "version": 3
   },
   "file_extension": ".py",
   "mimetype": "text/x-python",
   "name": "python",
   "nbconvert_exporter": "python",
   "pygments_lexer": "ipython3",
   "version": "3.12.3"
  }
 },
 "nbformat": 4,
 "nbformat_minor": 2
}
