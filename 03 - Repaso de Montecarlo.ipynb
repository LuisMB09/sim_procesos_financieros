{
  "nbformat": 4,
  "nbformat_minor": 0,
  "metadata": {
    "colab": {
      "provenance": []
    },
    "kernelspec": {
      "name": "python3",
      "display_name": "Python 3"
    },
    "language_info": {
      "name": "python"
    }
  },
  "cells": [
    {
      "cell_type": "markdown",
      "source": [
        "## Simulación de Montecarlo\n",
        "\n",
        "- Aplicar simulación de Montecarlo a procesos matemáticos a manera de repaso a simulación matemática.\n",
        "\n",
        "- 29 de Enero 2025\n"
      ],
      "metadata": {
        "id": "gBVclzamkdof"
      }
    },
    {
      "cell_type": "markdown",
      "source": [
        "El método tiene 4 pasos:\n",
        "- Definir un dominio de posibles entradas de la variable aleatoria\n",
        "- Generas muestreos aleatorios a partir de una distribución de probabilidad\n",
        "- Realizas cálculo determinista a partir de las muestras aleatorias\n",
        "- Agregas los resultados para llegar a una estimación puntual\n",
        "\n"
      ],
      "metadata": {
        "id": "oGETEhFIksn8"
      }
    },
    {
      "cell_type": "markdown",
      "source": [
        "### Ejemplos"
      ],
      "metadata": {
        "id": "L6g9-uiKpLqe"
      }
    },
    {
      "cell_type": "code",
      "source": [
        "import numpy as np\n",
        "import matplotlib.pyplot as plt"
      ],
      "metadata": {
        "id": "KdqrJl0NpF7X"
      },
      "execution_count": null,
      "outputs": []
    },
    {
      "cell_type": "markdown",
      "source": [
        "Calculadora de Integrales definidas"
      ],
      "metadata": {
        "id": "pvz_56dwpbsc"
      }
    },
    {
      "cell_type": "code",
      "execution_count": null,
      "metadata": {
        "id": "JVh3zYlBka8k"
      },
      "outputs": [],
      "source": [
        "# Funcon calcular integral\n",
        "# Recibe una variable y devuelve su integral\n",
        "# Parametros:\n",
        "\n",
        "def funcion_a_integrar(x):\n",
        "    return x**2\n",
        "\n",
        "a = 2\n",
        "b = 5\n",
        "\n",
        "N = 100000\n",
        "\n",
        "x = np.random.uniform(a, b, N)\n",
        "y = np.random.uniform(0, funcion_a_integrar(b), N)"
      ]
    },
    {
      "cell_type": "code",
      "source": [
        "x"
      ],
      "metadata": {
        "colab": {
          "base_uri": "https://localhost:8080/"
        },
        "id": "1NR5pMnopXXy",
        "outputId": "44362269-2819-4fd4-cd4b-0335617c2b99"
      },
      "execution_count": null,
      "outputs": [
        {
          "output_type": "execute_result",
          "data": {
            "text/plain": [
              "array([3.17902584, 2.76252611, 4.14291574, ..., 4.39818874, 4.79400711,\n",
              "       3.4536336 ])"
            ]
          },
          "metadata": {},
          "execution_count": 16
        }
      ]
    },
    {
      "cell_type": "code",
      "source": [
        "y"
      ],
      "metadata": {
        "colab": {
          "base_uri": "https://localhost:8080/"
        },
        "id": "6YkBtAhNsxmr",
        "outputId": "38f32343-18ed-4aee-977b-9635670bfddf"
      },
      "execution_count": null,
      "outputs": [
        {
          "output_type": "execute_result",
          "data": {
            "text/plain": [
              "array([ 3.20197896,  3.48807155, 15.63763634, ..., 10.40978831,\n",
              "       16.79162733, 23.46126121])"
            ]
          },
          "metadata": {},
          "execution_count": 17
        }
      ]
    },
    {
      "cell_type": "code",
      "source": [
        "n_bajo_de_la_curva = np.sum(y < funcion_a_integrar(x))\n",
        "n_bajo_de_la_curva"
      ],
      "metadata": {
        "colab": {
          "base_uri": "https://localhost:8080/"
        },
        "id": "3CrhRDtXuXyF",
        "outputId": "137c9785-9131-43a9-c1f7-3fc6794c09eb"
      },
      "execution_count": null,
      "outputs": [
        {
          "output_type": "execute_result",
          "data": {
            "text/plain": [
              "52256"
            ]
          },
          "metadata": {},
          "execution_count": 18
        }
      ]
    },
    {
      "cell_type": "code",
      "source": [
        "# b-a ::: Base del rectángulo donde generas los puntos\n",
        "# funcion_a_integrar(b) ::: Altura   del rectángulo donde generas los puntos\n",
        "respuesta_integral = (b-a) * (funcion_a_integrar(b)) * n_bajo_de_la_curva / N\n",
        "respuesta_integral\n",
        "# 38.99565"
      ],
      "metadata": {
        "colab": {
          "base_uri": "https://localhost:8080/"
        },
        "id": "U9aHWOgCu716",
        "outputId": "291bc263-5f20-4c09-b3fc-b0d42064d2fe"
      },
      "execution_count": null,
      "outputs": [
        {
          "output_type": "execute_result",
          "data": {
            "text/plain": [
              "39.192"
            ]
          },
          "metadata": {},
          "execution_count": 19
        }
      ]
    },
    {
      "cell_type": "code",
      "source": [
        "plt.plot(x,y,'.')\n",
        "plt.plot(np.linspace(a,b, 10), funcion_a_integrar(np.linspace(a,b, 10)), 'r' )\n",
        "plt.show()"
      ],
      "metadata": {
        "colab": {
          "base_uri": "https://localhost:8080/",
          "height": 430
        },
        "id": "jBxf8n3SyGuH",
        "outputId": "f55d356a-37dd-49c9-98e3-e1fc5096cf2c"
      },
      "execution_count": null,
      "outputs": [
        {
          "output_type": "display_data",
          "data": {
            "text/plain": [
              "<Figure size 640x480 with 1 Axes>"
            ],
            "image/png": "[encoded data removed]"
          },
          "metadata": {}
        }
      ]
    },
    {
      "cell_type": "code",
      "source": [],
      "metadata": {
        "id": "xNevbAnwyGpz"
      },
      "execution_count": null,
      "outputs": []
    },
    {
      "cell_type": "code",
      "source": [
        "#Calculadora (código limpio)\n",
        "\n",
        "def funcion_a_integrar(x):\n",
        "    ## reemplazar por función a integrar\n",
        "    return x**2\n",
        "\n",
        "\n",
        "def integral_definida(a,b,N):\n",
        "    x = np.random.uniform(a, b, N)\n",
        "    y = np.random.uniform(0, funcion_a_integrar(b), N)\n",
        "    n_bajo_de_la_curva = np.sum(y < funcion_a_integrar(x))\n",
        "    respuesta_integral = (b-a) * (funcion_a_integrar(b)) * n_bajo_de_la_curva / N\n",
        "    return respuesta_integral\n",
        "\n",
        "\n",
        "integral_definida(2,5,1000000)\n",
        "\n"
      ],
      "metadata": {
        "colab": {
          "base_uri": "https://localhost:8080/"
        },
        "id": "NBcn36YWxX5V",
        "outputId": "977eec16-c22c-4356-d085-264bd2bb213e"
      },
      "execution_count": null,
      "outputs": [
        {
          "output_type": "execute_result",
          "data": {
            "text/plain": [
              "38.97615"
            ]
          },
          "metadata": {},
          "execution_count": 14
        }
      ]
    },
    {
      "cell_type": "code",
      "source": [],
      "metadata": {
        "id": "u1KGvvhgyAip"
      },
      "execution_count": null,
      "outputs": []
    }
  ]
}