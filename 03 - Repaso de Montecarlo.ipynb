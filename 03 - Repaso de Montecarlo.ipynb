{
  "cells": [
    {
      "cell_type": "markdown",
      "metadata": {
        "id": "gBVclzamkdof"
      },
      "source": [
        "## Simulación de Montecarlo\n",
        "\n",
        "- Aplicar simulación de Montecarlo a procesos matemáticos a manera de repaso a simulación matemática.\n",
        "\n",
        "- 29 de Enero 2025\n"
      ]
    },
    {
      "cell_type": "markdown",
      "metadata": {
        "id": "oGETEhFIksn8"
      },
      "source": [
        "El método tiene 4 pasos:\n",
        "- Definir un dominio de posibles entradas de la variable aleatoria\n",
        "- Generas muestreos aleatorios a partir de una distribución de probabilidad\n",
        "- Realizas cálculo determinista a partir de las muestras aleatorias\n",
        "- Agregas los resultados para llegar a una estimación puntual\n",
        "\n"
      ]
    },
    {
      "cell_type": "markdown",
      "metadata": {
        "id": "L6g9-uiKpLqe"
      },
      "source": [
        "### Ejemplos"
      ]
    },
    {
      "cell_type": "code",
      "execution_count": 2,
      "metadata": {
        "id": "KdqrJl0NpF7X"
      },
      "outputs": [],
      "source": [
        "import numpy as np\n",
        "import matplotlib.pyplot as plt"
      ]
    },
    {
      "cell_type": "markdown",
      "metadata": {
        "id": "pvz_56dwpbsc"
      },
      "source": [
        "Calculadora de Integrales definidas"
      ]
    },
    {
      "cell_type": "code",
      "execution_count": 3,
      "metadata": {
        "id": "JVh3zYlBka8k"
      },
      "outputs": [],
      "source": [
        "# Funcon calcular integral\n",
        "# Recibe una variable y devuelve su integral\n",
        "# Parametros:\n",
        "\n",
        "def funcion_a_integrar(x):\n",
        "    return x**2\n",
        "\n",
        "a = 2\n",
        "b = 5\n",
        "\n",
        "N = 100000\n",
        "\n",
        "x = np.random.uniform(a, b, N)\n",
        "y = np.random.uniform(0, funcion_a_integrar(b), N)"
      ]
    },
    {
      "cell_type": "code",
      "execution_count": 4,
      "metadata": {
        "colab": {
          "base_uri": "https://localhost:8080/"
        },
        "id": "1NR5pMnopXXy",
        "outputId": "44362269-2819-4fd4-cd4b-0335617c2b99"
      },
      "outputs": [
        {
          "data": {
            "text/plain": [
              "array([4.62343394, 4.61377146, 4.43556036, ..., 4.75102854, 4.08600001,\n",
              "       4.91925303])"
            ]
          },
          "execution_count": 4,
          "metadata": {},
          "output_type": "execute_result"
        }
      ],
      "source": [
        "x"
      ]
    },
    {
      "cell_type": "code",
      "execution_count": 5,
      "metadata": {
        "colab": {
          "base_uri": "https://localhost:8080/"
        },
        "id": "6YkBtAhNsxmr",
        "outputId": "38f32343-18ed-4aee-977b-9635670bfddf"
      },
      "outputs": [
        {
          "data": {
            "text/plain": [
              "array([ 0.33192643,  5.86445692, 14.3335494 , ..., 12.21491201,\n",
              "       19.13660451,  1.1809221 ])"
            ]
          },
          "execution_count": 5,
          "metadata": {},
          "output_type": "execute_result"
        }
      ],
      "source": [
        "y"
      ]
    },
    {
      "cell_type": "code",
      "execution_count": 6,
      "metadata": {
        "colab": {
          "base_uri": "https://localhost:8080/"
        },
        "id": "3CrhRDtXuXyF",
        "outputId": "137c9785-9131-43a9-c1f7-3fc6794c09eb"
      },
      "outputs": [
        {
          "data": {
            "text/plain": [
              "52077"
            ]
          },
          "execution_count": 6,
          "metadata": {},
          "output_type": "execute_result"
        }
      ],
      "source": [
        "n_bajo_de_la_curva = np.sum(y < funcion_a_integrar(x))\n",
        "n_bajo_de_la_curva"
      ]
    },
    {
      "cell_type": "code",
      "execution_count": 7,
      "metadata": {
        "colab": {
          "base_uri": "https://localhost:8080/"
        },
        "id": "U9aHWOgCu716",
        "outputId": "291bc263-5f20-4c09-b3fc-b0d42064d2fe"
      },
      "outputs": [
        {
          "data": {
            "text/plain": [
              "39.05775"
            ]
          },
          "execution_count": 7,
          "metadata": {},
          "output_type": "execute_result"
        }
      ],
      "source": [
        "# b-a ::: Base del rectángulo donde generas los puntos\n",
        "# funcion_a_integrar(b) ::: Altura   del rectángulo donde generas los puntos\n",
        "respuesta_integral = (b-a) * (funcion_a_integrar(b)) * n_bajo_de_la_curva / N\n",
        "respuesta_integral\n",
        "# 38.99565"
      ]
    },
    {
      "cell_type": "code",
      "execution_count": 8,
      "metadata": {
        "colab": {
          "base_uri": "https://localhost:8080/",
          "height": 430
        },
        "id": "jBxf8n3SyGuH",
        "outputId": "f55d356a-37dd-49c9-98e3-e1fc5096cf2c"
      },
      "outputs": [
        {
          "data": {
            "image/png": "[encoded data removed]",
            "text/plain": [
              "<Figure size 640x480 with 1 Axes>"
            ]
          },
          "metadata": {},
          "output_type": "display_data"
        }
      ],
      "source": [
        "plt.plot(x,y,'.')\n",
        "plt.plot(np.linspace(a,b, 10), funcion_a_integrar(np.linspace(a,b, 10)), 'r' )\n",
        "plt.show()"
      ]
    },
    {
      "cell_type": "code",
      "execution_count": null,
      "metadata": {
        "id": "xNevbAnwyGpz"
      },
      "outputs": [],
      "source": []
    },
    {
      "cell_type": "code",
      "execution_count": 9,
      "metadata": {
        "colab": {
          "base_uri": "https://localhost:8080/"
        },
        "id": "NBcn36YWxX5V",
        "outputId": "977eec16-c22c-4356-d085-264bd2bb213e"
      },
      "outputs": [
        {
          "data": {
            "text/plain": [
              "39.03315"
            ]
          },
          "execution_count": 9,
          "metadata": {},
          "output_type": "execute_result"
        }
      ],
      "source": [
        "#Calculadora (código limpio)\n",
        "\n",
        "def funcion_a_integrar(x):\n",
        "    ## reemplazar por función a integrar\n",
        "    return x**2\n",
        "\n",
        "\n",
        "def integral_definida(a,b,N):\n",
        "    x = np.random.uniform(a, b, N)\n",
        "    y = np.random.uniform(0, funcion_a_integrar(b), N)\n",
        "    n_bajo_de_la_curva = np.sum(y < funcion_a_integrar(x))\n",
        "    respuesta_integral = (b-a) * (funcion_a_integrar(b)) * n_bajo_de_la_curva / N\n",
        "    return respuesta_integral\n",
        "\n",
        "\n",
        "integral_definida(2,5,1000000)\n",
        "\n"
      ]
    },
    {
      "cell_type": "code",
      "execution_count": null,
      "metadata": {
        "id": "u1KGvvhgyAip"
      },
      "outputs": [],
      "source": []
    }
  ],
  "metadata": {
    "colab": {
      "provenance": []
    },
    "kernelspec": {
      "display_name": "base",
      "language": "python",
      "name": "python3"
    },
    "language_info": {
      "codemirror_mode": {
        "name": "ipython",
        "version": 3
      },
      "file_extension": ".py",
      "mimetype": "text/x-python",
      "name": "python",
      "nbconvert_exporter": "python",
      "pygments_lexer": "ipython3",
      "version": "3.12.3"
    }
  },
  "nbformat": 4,
  "nbformat_minor": 0
}
